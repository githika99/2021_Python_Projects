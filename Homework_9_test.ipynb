{
  "cells": [
    {
      "cell_type": "markdown",
      "metadata": {
        "id": "dPDLDEa2AgTT"
      },
      "source": [
        "Before you turn this problem in, make sure everything runs as expected. First, **restart the kernel** (in the menubar, select Kernel$\\rightarrow$Restart) and then **run all cells** (in the menubar, select Cell$\\rightarrow$Run All).\n",
        "\n",
        "Make sure you fill in any place that says `YOUR CODE HERE` or \"YOUR ANSWER HERE\", as well as your name and collaborators below:"
      ]
    },
    {
      "cell_type": "code",
      "execution_count": 1,
      "metadata": {
        "id": "1KJPvAELAgTc"
      },
      "outputs": [],
      "source": [
        "NAME = \"\"\n",
        "COLLABORATORS = \"\""
      ]
    },
    {
      "cell_type": "markdown",
      "metadata": {
        "id": "FYXOnSJOAgTf"
      },
      "source": [
        "---"
      ]
    },
    {
      "cell_type": "markdown",
      "metadata": {
        "deletable": false,
        "editable": false,
        "nbgrader": {
          "cell_type": "markdown",
          "checksum": "49f0571481c03b12bb24b91cc1465070",
          "grade": false,
          "grade_id": "cell-f78f8bd04b7bbfb9",
          "locked": true,
          "schema_version": 3,
          "solution": false
        },
        "id": "SB7vK-GwAgTh"
      },
      "source": [
        "# CSE 30 Spring 2022 - Homework 9\n",
        "\n",
        "\n",
        "### Instructions\n",
        "\n",
        "Please disregard the YOUR NAME and COLLABORATORS above.  They are put there atomatically by the grading tool.\n",
        "You can find instructions on how to work on a homework on Canvas.  Here is a short summary: \n",
        "\n",
        "### Submitting your work\n",
        "\n",
        "To submit your work: \n",
        "\n",
        "* First, click on \"Runtime > Restart and run all\", and check that you get no errors.  This enables you to catch any error you might have introduced, and not noticed, due to your running cells out of order. \n",
        "* Second, download the notebook in .ipynb format (File > Download .ipynb) and upload the .ipynb file to [this form](https://docs.google.com/forms/d/e/1FAIpQLScdykHU8AZuWfqRZj0lBRuBOzgqyipNHt_QC1p3iY7w9iGHnw/viewform?usp=sf_link).\n",
        "\n",
        "You can submit multiple times; the last submission before the deadline is the one that counts. This homework is due by **11:59pm on Tuesday 10 May, 2022**.\n",
        "\n",
        "### Homework format\n",
        "\n",
        "For each question in this notebook, there is: \n",
        "\n",
        "* A text description of the problem. \n",
        "* One or more places where you have to insert your solution.  You need to complete every place marked: \n",
        "\n",
        "    `# YOUR CODE HERE`\n",
        "    \n",
        "    and you should not modify any other place. \n",
        "* One or more test cells.  Each cell is worth some number of points, marked at the top.  You should not modify these tests cells.  The tests pass if no error is printed out: when there is a statement that says, for instance: \n",
        "\n",
        "    `assert x == 2`\n",
        "    \n",
        "    then the test passes if `x` has value 2, and fails otherwise.  You can insert a `print(x)` (for this case!) somewhere if you want to debug your work; it is up to you.  \n",
        "    \n",
        "### Notes:\n",
        "\n",
        "* Your code will be tested both according to the tests you can see (the `assert` statements you can see), _and_ additional tests.  This prevents you from hard-coding the answer to the particular questions posed.  Your code should solve the _general_ intended case, not hard-code the particular answer for the values used in the tests. \n",
        "\n",
        "* **Please do not delete or add cells!** The test is autograded, and if you modify the test by adding or deleting cells, even if you re-add cells you delete, you may not receive credit. \n",
        "\n",
        "* **Please do not import modules that are not part of the [standard library](https://docs.python.org/3/library/index.html).** You do not need any, and they will likely not available in the grading environment, leading your code to fail. \n",
        "\n",
        "* **If you are inactive too long, your notebook might get disconnected from the back-end.** Your work is never lost, but you have to re-run all the cells before you continue. \n",
        "\n",
        "* You can write out print statements in your code, to help you test/debug it. But remember: the code is graded on the basis of what it outputs or returns, not on the basis of what it prints.\n",
        "\n",
        "* **TAs and tutors have access to this notebook,** so if you let them know you need their help, they can look at your work and give you advice. \n",
        "\n",
        "### Grading\n",
        "\n",
        "Each cell where there are tests is worth a certain number of points.  You get the points allocated to a cell only if you pass _all_ the tests in the cell. \n",
        "\n",
        "The tests in a cell include both the tests you can see, and other, similar, tests that are used for grading only.  Therefore, you cannot hard-code the solutions: you really have to solve the essence of the problem, to receive the points in a cell. \n",
        "\n",
        "### Code of Conduct\n",
        "\n",
        "* Work on the test yourself, alone. \n",
        "* You can search documentation on the web, on sites such as the Python documentation sites, Stackoverflow, and similar, and you can use the results. \n",
        "* You cannot share your work with others or solicit their help.\n"
      ]
    },
    {
      "cell_type": "markdown",
      "metadata": {
        "deletable": false,
        "editable": false,
        "nbgrader": {
          "cell_type": "markdown",
          "checksum": "550f3f82346323117e9a38e874e61cee",
          "grade": false,
          "grade_id": "cell-dc5c9a288c96a6da",
          "locked": true,
          "schema_version": 3,
          "solution": false
        },
        "id": "sW1bcgtzAgTk"
      },
      "source": [
        "We will develop a data structure to represent arithmetic expressions containing variables, such as $3 + 4$ or $2 + x * (1 - y)$.  \n",
        "\n",
        "What is an expression?  An expression consists of one of these: \n",
        "\n",
        "\n",
        "1. A number\n",
        "2. A variable\n",
        "3. If $e_1$ and $e_2$ are expressions, then $e_1 + e_2$, $e_1 - e_2$, $e_1 * e_2$, and $e_1 / e_2$ are also expressions. \n",
        "\n",
        "Formally, the set of expressions is the _least_ set constructed according to the rules above. \n",
        "\n",
        "Thus, an expression can be either a constant, representing numbers and variables, or a composite expression, consisting of an operator, a left expression, and a right expression.  \n"
      ]
    },
    {
      "cell_type": "markdown",
      "metadata": {
        "deletable": false,
        "editable": false,
        "nbgrader": {
          "cell_type": "markdown",
          "checksum": "2879bfc917c75208ed15b6167e9c06b2",
          "grade": false,
          "grade_id": "cell-a4e5b58e4a4483ab",
          "locked": true,
          "schema_version": 3,
          "solution": false
        },
        "id": "k7Rcl3y2AgTl"
      },
      "source": [
        "There are (at least) two ways of representing expressions. The simplest way is to represent expressions as trees, and define operations on them. \n",
        "The more sophisticated way consists in representing expressions via classes: there will be one class for variable and constants, and one class representing composite expressions; both of these classes will be subclasses of a generic \"expression\" class. \n",
        "\n",
        "In this chapter, we will represent expression as trees, to gain experience with writing recursive functions on trees; in the next chapter, we will show how to represent them more elegantly as classes."
      ]
    },
    {
      "cell_type": "markdown",
      "metadata": {
        "deletable": false,
        "editable": false,
        "nbgrader": {
          "cell_type": "markdown",
          "checksum": "1dd70a407e35c5b2034f4640b97a24fa",
          "grade": false,
          "grade_id": "cell-7cd6e40414676368",
          "locked": true,
          "schema_version": 3,
          "solution": false
        },
        "id": "i_H2zV0bAgTm"
      },
      "source": [
        "We will represent expressions as trees.  A number will be represented via a number; a variable via a string, and the expression $e_1 \\odot e_2$ via the tuple $(\\odot, e_1, e_2)$, for $\\odot \\in \\{+, -, *, / \\}$.\n",
        "\n",
        "For example, we will represent $2 * (x + 1)$ via:\n",
        "\n",
        "    ('*', 2, ('+', 'x', 1))"
      ]
    },
    {
      "cell_type": "code",
      "execution_count": 2,
      "metadata": {
        "deletable": false,
        "editable": false,
        "nbgrader": {
          "cell_type": "code",
          "checksum": "b10673327d549cafbc7e78bea2350335",
          "grade": false,
          "grade_id": "cell-5909ba0141835fdc",
          "locked": true,
          "schema_version": 3,
          "solution": false
        },
        "id": "5yiQab9kAgTo"
      },
      "outputs": [],
      "source": [
        "e = ('*', 2, ('+', 'x', 1))\n"
      ]
    },
    {
      "cell_type": "markdown",
      "metadata": {
        "deletable": false,
        "editable": false,
        "nbgrader": {
          "cell_type": "markdown",
          "checksum": "ff0326f6f6dcba13a812680de60b2586",
          "grade": false,
          "grade_id": "cell-87a3a580291578cc",
          "locked": true,
          "schema_version": 3,
          "solution": false
        },
        "id": "sUMzxqSuAgTp"
      },
      "source": [
        "In particular, we will consider expressions built out of the four arithmetic operators `\"+\"`, `\"-\"`, `\"*\"`, `\"/\"`. "
      ]
    },
    {
      "cell_type": "markdown",
      "metadata": {
        "deletable": false,
        "editable": false,
        "nbgrader": {
          "cell_type": "markdown",
          "checksum": "3a13daca30cbfc328b512d93686d91b2",
          "grade": false,
          "grade_id": "cell-a5c6d27c50436625",
          "locked": true,
          "schema_version": 3,
          "solution": false
        },
        "id": "Wf3-Mks_AgTq"
      },
      "source": [
        "### A compute function\n",
        "\n",
        "Let us define a function compute() that takes one such expression, and returns the expression obtained by performing all possible numerical computation.\n",
        "We consider first the simple case of an expression where the only operators that can appear are `+` and `-`, and where there are no variables.  "
      ]
    },
    {
      "cell_type": "markdown",
      "metadata": {
        "deletable": false,
        "editable": false,
        "nbgrader": {
          "cell_type": "markdown",
          "checksum": "1ce4cbef2f6aa042886728cf1c0cf92c",
          "grade": false,
          "grade_id": "cell-6198e65f30a11596",
          "locked": true,
          "schema_version": 3,
          "solution": false
        },
        "id": "geGaCF6PAgTr"
      },
      "source": [
        "Let us create an exception to raise when we cannot interpret an expression. "
      ]
    },
    {
      "cell_type": "code",
      "execution_count": 3,
      "metadata": {
        "deletable": false,
        "editable": false,
        "nbgrader": {
          "cell_type": "code",
          "checksum": "e010df2dffa8c73d70b74f8408e01fad",
          "grade": false,
          "grade_id": "cell-dccdfc25e989ac8",
          "locked": true,
          "schema_version": 3,
          "solution": false
        },
        "id": "wSXE7J01AgTr"
      },
      "outputs": [],
      "source": [
        "class IllegalOperator(Exception):\n",
        "    pass\n"
      ]
    },
    {
      "cell_type": "markdown",
      "metadata": {
        "deletable": false,
        "editable": false,
        "nbgrader": {
          "cell_type": "markdown",
          "checksum": "fc1aded645bf40ee09e63bf5c3a67e41",
          "grade": false,
          "grade_id": "cell-6ca894eb928040c1",
          "locked": true,
          "schema_version": 3,
          "solution": false
        },
        "id": "u5S1k4Q0AgTs"
      },
      "source": [
        "Let us define a helper function `calc`, which takes as argument an operator and two numbers, and computes the required operation.  It will make it easier to write the rest of the code. "
      ]
    },
    {
      "cell_type": "code",
      "execution_count": 4,
      "metadata": {
        "deletable": false,
        "editable": false,
        "nbgrader": {
          "cell_type": "code",
          "checksum": "685d14920b871d0c2008dba710fdf806",
          "grade": false,
          "grade_id": "cell-eab822aeb8f5144c",
          "locked": true,
          "schema_version": 3,
          "solution": false
        },
        "id": "5LXHvgdkAgTs"
      },
      "outputs": [],
      "source": [
        "def calc(op, left, right):\n",
        "    if op == \"+\":\n",
        "        return left + right\n",
        "    elif op == \"-\":\n",
        "        return left - right\n",
        "    elif op == \"*\":\n",
        "        return left * right\n",
        "    elif op == \"/\":\n",
        "        return left / right\n",
        "    else:\n",
        "        raise IllegalOperator(op)\n"
      ]
    },
    {
      "cell_type": "markdown",
      "metadata": {
        "deletable": false,
        "editable": false,
        "nbgrader": {
          "cell_type": "markdown",
          "checksum": "df940c6090caa8825969ccff90bc9f86",
          "grade": false,
          "grade_id": "cell-9f782c9395fa8685",
          "locked": true,
          "schema_version": 3,
          "solution": false
        },
        "id": "YjJ3vsRtAgTt"
      },
      "source": [
        "With this, we can write our compute method as follows. "
      ]
    },
    {
      "cell_type": "code",
      "execution_count": 5,
      "metadata": {
        "deletable": false,
        "editable": false,
        "nbgrader": {
          "cell_type": "code",
          "checksum": "640a4cb1579d29317b2525bba91d24f9",
          "grade": false,
          "grade_id": "cell-dbb2beb1cf2b93a0",
          "locked": true,
          "schema_version": 3,
          "solution": false
        },
        "id": "5Xx_kI3yAgTt"
      },
      "outputs": [],
      "source": [
        "def compute(e):\n",
        "    if isinstance(e, tuple):    #if e is a tuple\n",
        "        # We have an expression.\n",
        "        op, l, r = e\n",
        "        # We compute the subexpressions.\n",
        "        ll = compute(l)\n",
        "        rr = compute(r)\n",
        "        # And on the basis of those, the whole expression.\n",
        "        return calc(op, ll, rr)\n",
        "    else:\n",
        "        # base expression; just return the number.\n",
        "        return e\n"
      ]
    },
    {
      "cell_type": "code",
      "execution_count": 6,
      "metadata": {
        "deletable": false,
        "editable": false,
        "nbgrader": {
          "cell_type": "code",
          "checksum": "79ac43157808970ed4ceb77c39134af8",
          "grade": false,
          "grade_id": "cell-88033380858ab07e",
          "locked": true,
          "schema_version": 3,
          "solution": false
        },
        "colab": {
          "base_uri": "https://localhost:8080/"
        },
        "id": "JOkmMvqSAgTu",
        "outputId": "a73dc257-7a0b-4d96-fa3a-d3ea802aa036"
      },
      "outputs": [
        {
          "output_type": "execute_result",
          "data": {
            "text/plain": [
              "9"
            ]
          },
          "metadata": {},
          "execution_count": 6
        }
      ],
      "source": [
        "compute((\"+\", 4, 5))\n"
      ]
    },
    {
      "cell_type": "code",
      "execution_count": 7,
      "metadata": {
        "deletable": false,
        "editable": false,
        "nbgrader": {
          "cell_type": "code",
          "checksum": "4e7ec5a41c81c6ce7ed9e7f18ad3d17a",
          "grade": false,
          "grade_id": "cell-f1d009d47eade8e9",
          "locked": true,
          "schema_version": 3,
          "solution": false
        },
        "colab": {
          "base_uri": "https://localhost:8080/"
        },
        "id": "80Yxbiw-AgTv",
        "outputId": "b07215db-4684-4af8-e69a-2a65e1e480ac"
      },
      "outputs": [
        {
          "output_type": "execute_result",
          "data": {
            "text/plain": [
              "15"
            ]
          },
          "metadata": {},
          "execution_count": 7
        }
      ],
      "source": [
        "compute((\"+\", (\"-\", 3, 1), (\"+\", 4, 9)))\n"
      ]
    },
    {
      "cell_type": "markdown",
      "metadata": {
        "deletable": false,
        "editable": false,
        "nbgrader": {
          "cell_type": "markdown",
          "checksum": "94e272f52e57b8c41b2dfb86b555e3d1",
          "grade": false,
          "grade_id": "cell-fd295727018b572e",
          "locked": true,
          "schema_version": 3,
          "solution": false
        },
        "id": "BknP8mDUAgTv"
      },
      "source": [
        "## Expressions with variables"
      ]
    },
    {
      "cell_type": "markdown",
      "metadata": {
        "deletable": false,
        "editable": false,
        "nbgrader": {
          "cell_type": "markdown",
          "checksum": "736f864993bf90d95aa68a7296088ab7",
          "grade": false,
          "grade_id": "cell-9afcd98699c87455",
          "locked": true,
          "schema_version": 3,
          "solution": false
        },
        "id": "Hno1TcuVAgTv"
      },
      "source": [
        "If an expression can have variables, we can distinguish three types of expressions: \n",
        "\n",
        "* Numbers \n",
        "* Variables\n",
        "* Composite expressions. \n",
        "\n",
        "To facilitate writing code, let us define for you three helper functions that tell us the type of an expression. "
      ]
    },
    {
      "cell_type": "code",
      "execution_count": 8,
      "metadata": {
        "deletable": false,
        "editable": false,
        "nbgrader": {
          "cell_type": "code",
          "checksum": "b9f5c940dea05e69c902d2be98409590",
          "grade": false,
          "grade_id": "cell-3b409b28ca1b43af",
          "locked": true,
          "schema_version": 3,
          "solution": false
        },
        "id": "Qsp8t9E3AgTw"
      },
      "outputs": [],
      "source": [
        "from numbers import Number # The mother class of all numbers.\n",
        "\n",
        "def isnumber(e):\n",
        "    return isinstance(e, Number)\n",
        "\n",
        "def isvariable(e):\n",
        "    return isinstance(e, str)\n",
        "\n",
        "def iscomposite(e):\n",
        "    return isinstance(e, tuple)\n"
      ]
    },
    {
      "cell_type": "markdown",
      "metadata": {
        "deletable": false,
        "editable": false,
        "nbgrader": {
          "cell_type": "markdown",
          "checksum": "00ad43f9693e20ef718bf76c48f966d4",
          "grade": false,
          "grade_id": "cell-460a031861373b7b",
          "locked": true,
          "schema_version": 3,
          "solution": false
        },
        "id": "K1BGHLUvAgTw"
      },
      "source": [
        "The idea we use to simplify an expression is the following: \n",
        "\n",
        "* If the expression is a Number, you return a number: it's already simplified. \n",
        "* If the expression is a variable, you return the variable (that is, the expression unchanged); there is nothing to be done. \n",
        "* If the expression is an operation, such as \"+\", \"-\", ..., then you consider the right and left children, and you reason: \n",
        "    * If all the two children are numbers, then you can compute the operation and return the result. \n",
        "    * Otherwise, again, there is nothing that can be done, and you return the expression unchanged. \n"
      ]
    },
    {
      "cell_type": "code",
      "execution_count": 9,
      "metadata": {
        "deletable": false,
        "editable": false,
        "nbgrader": {
          "cell_type": "code",
          "checksum": "eb65689ad65a64e2119acd3061f76018",
          "grade": false,
          "grade_id": "cell-cfa562aca99d4170",
          "locked": true,
          "schema_version": 3,
          "solution": false
        },
        "id": "AvUXRWG2AgTx"
      },
      "outputs": [],
      "source": [
        "def simplify(e):\n",
        "    if isinstance(e, tuple):\n",
        "        op, l, r = e\n",
        "        # We simplify the children expressions.\n",
        "        ll = simplify(l)\n",
        "        rr = simplify(r)\n",
        "        # We compute the expression if we can.\n",
        "        if isnumber(ll) and isnumber(rr):\n",
        "            return calc(op, ll, rr)\n",
        "        else:\n",
        "            return (op, ll, rr)\n",
        "    else:\n",
        "        # Leaf. No simplification is possible.\n",
        "        return e\n"
      ]
    },
    {
      "cell_type": "markdown",
      "metadata": {
        "deletable": false,
        "editable": false,
        "nbgrader": {
          "cell_type": "markdown",
          "checksum": "d32d259d6465d5894c245b4c183e6d7a",
          "grade": false,
          "grade_id": "cell-cd55db09a8ff1e53",
          "locked": true,
          "schema_version": 3,
          "solution": false
        },
        "id": "HxWlJvf1AgTy"
      },
      "source": [
        "Let's see how this works."
      ]
    },
    {
      "cell_type": "code",
      "execution_count": 10,
      "metadata": {
        "deletable": false,
        "editable": false,
        "nbgrader": {
          "cell_type": "code",
          "checksum": "7a36275486296d62991b4f8c596716b9",
          "grade": false,
          "grade_id": "cell-e8522c788f0c5e60",
          "locked": true,
          "schema_version": 3,
          "solution": false
        },
        "colab": {
          "base_uri": "https://localhost:8080/"
        },
        "id": "3v_R53EcAgTy",
        "outputId": "6a1a6da5-f2b0-4dab-a17e-e38a6f2e7094"
      },
      "outputs": [
        {
          "output_type": "execute_result",
          "data": {
            "text/plain": [
              "3"
            ]
          },
          "metadata": {},
          "execution_count": 10
        }
      ],
      "source": [
        "simplify(3)\n"
      ]
    },
    {
      "cell_type": "code",
      "execution_count": 11,
      "metadata": {
        "deletable": false,
        "editable": false,
        "nbgrader": {
          "cell_type": "code",
          "checksum": "018f0d5b8dfc5a85e429b63930baa36b",
          "grade": false,
          "grade_id": "cell-98822b9498753e02",
          "locked": true,
          "schema_version": 3,
          "solution": false
        },
        "colab": {
          "base_uri": "https://localhost:8080/"
        },
        "id": "y9aPLMJCAgTz",
        "outputId": "d220f117-dbc9-4a8d-fb61-aff397e04685"
      },
      "outputs": [
        {
          "output_type": "execute_result",
          "data": {
            "text/plain": [
              "('+', 'x', 1)"
            ]
          },
          "metadata": {},
          "execution_count": 11
        }
      ],
      "source": [
        "simplify((\"+\", \"x\", 1))\n"
      ]
    },
    {
      "cell_type": "markdown",
      "metadata": {
        "deletable": false,
        "editable": false,
        "nbgrader": {
          "cell_type": "markdown",
          "checksum": "43b3ce3739a937c9d02e4f6009b0bf36",
          "grade": false,
          "grade_id": "cell-c544acbeb8aa6f36",
          "locked": true,
          "schema_version": 3,
          "solution": false
        },
        "id": "T1vo8nx6AgTz"
      },
      "source": [
        "Yes, there was nothing we could simplify.  Let's try now with something we can simplify: "
      ]
    },
    {
      "cell_type": "code",
      "execution_count": 12,
      "metadata": {
        "deletable": false,
        "editable": false,
        "nbgrader": {
          "cell_type": "code",
          "checksum": "f1656bf29ae2aa399aab765e2d63c300",
          "grade": false,
          "grade_id": "cell-f55a552b330cdc9f",
          "locked": true,
          "schema_version": 3,
          "solution": false
        },
        "colab": {
          "base_uri": "https://localhost:8080/"
        },
        "id": "1HLyp7GmAgTz",
        "outputId": "1acdea75-d3cf-4896-bcd1-db523fa2ec08"
      },
      "outputs": [
        {
          "output_type": "execute_result",
          "data": {
            "text/plain": [
              "1"
            ]
          },
          "metadata": {},
          "execution_count": 12
        }
      ],
      "source": [
        "simplify(('-', 5, 4))\n"
      ]
    },
    {
      "cell_type": "markdown",
      "metadata": {
        "deletable": false,
        "editable": false,
        "nbgrader": {
          "cell_type": "markdown",
          "checksum": "84fcd4a44b828843d9db920d7965bbd7",
          "grade": false,
          "grade_id": "cell-e6a010f1b08dfdf7",
          "locked": true,
          "schema_version": 3,
          "solution": false
        },
        "id": "lUWX4au6AgT0"
      },
      "source": [
        "Can we simplify bigger expressions? "
      ]
    },
    {
      "cell_type": "code",
      "execution_count": 13,
      "metadata": {
        "deletable": false,
        "editable": false,
        "nbgrader": {
          "cell_type": "code",
          "checksum": "422fcd02b8b3dfa2e8779c1452e49355",
          "grade": false,
          "grade_id": "cell-63172637bca8433b",
          "locked": true,
          "schema_version": 3,
          "solution": false
        },
        "colab": {
          "base_uri": "https://localhost:8080/"
        },
        "id": "G32XxgxPAgT0",
        "outputId": "e2787c35-0730-4a60-8ea0-4883c524ebe6"
      },
      "outputs": [
        {
          "output_type": "execute_result",
          "data": {
            "text/plain": [
              "11"
            ]
          },
          "metadata": {},
          "execution_count": 13
        }
      ],
      "source": [
        "simplify( ('+', 6, ('-', 7, 2)) )\n"
      ]
    },
    {
      "cell_type": "markdown",
      "metadata": {
        "deletable": false,
        "editable": false,
        "nbgrader": {
          "cell_type": "markdown",
          "checksum": "e9e341f6e5a5bb0e5d51bd6fe540b5e7",
          "grade": false,
          "grade_id": "cell-2611b0c99add8224",
          "locked": true,
          "schema_version": 3,
          "solution": false
        },
        "id": "QY2B2YpYAgT0"
      },
      "source": [
        "## Question 1: Evaluating expressions with respect to a variable valuation.\n",
        "\n",
        "The function `simplify` above can perform all numerical computations, but stops whenever it encounters a variable. It cannot do any better, in fact, because it does not know the values of variables. \n",
        "\n",
        "If we specify values for variables, we can then use those values in the computation, replacing each variable whose value is specified with the value itself. \n",
        "\n",
        "A _variable valuation_ is a mapping from variables to their values; we can represent it simply as a dictionary associating to each variable a number:"
      ]
    },
    {
      "cell_type": "code",
      "execution_count": 14,
      "metadata": {
        "deletable": false,
        "editable": false,
        "nbgrader": {
          "cell_type": "code",
          "checksum": "b72319962b055eaefe625748118a2e04",
          "grade": false,
          "grade_id": "cell-32b57072188d7461",
          "locked": true,
          "schema_version": 3,
          "solution": false
        },
        "id": "syMAhKAjAgT0"
      },
      "outputs": [],
      "source": [
        "varval = {'x': 3, 'y': 8}\n"
      ]
    },
    {
      "cell_type": "markdown",
      "metadata": {
        "deletable": false,
        "editable": false,
        "nbgrader": {
          "cell_type": "markdown",
          "checksum": "efa3a0e35103994903c316fd579e32c8",
          "grade": false,
          "grade_id": "cell-d2271e99eb409b0e",
          "locked": true,
          "schema_version": 3,
          "solution": false
        },
        "id": "eL2y2t6WAgT0"
      },
      "source": [
        "You can extend the evaluation function to take as input a variable valuation.  The idea is that, when you find a variable, you try to see whether its value is specified in the variable valuation.  If it is, you can replace the variable with the value, and carry on.  If it is not, you leave the variable as it is, since you cannot evaluate it. \n",
        "\n",
        "To check if a variable (a string) `s` is in a dictionary `d`, you can test\n",
        "\n",
        "    s in d\n",
        "\n",
        "and to get the value, in case it is present, you can just do `d[s]` of course.  We let you develop the code. "
      ]
    },
    {
      "cell_type": "code",
      "execution_count": 15,
      "metadata": {
        "deletable": false,
        "nbgrader": {
          "cell_type": "code",
          "checksum": "aad43557f2d73d4721c46dda24472a9c",
          "grade": false,
          "grade_id": "cell-7f8ac8b9ce675e0f",
          "locked": false,
          "schema_version": 3,
          "solution": true
        },
        "id": "NxKwfnKAAgT1"
      },
      "outputs": [],
      "source": [
        "### Evaluating an expression with respect to a variable evaluation\n",
        "\n",
        "def compute(e, varval={}):\n",
        "    #YOUR CODE HERE\n",
        "    #print(\"e and varval:\", e, varval)\n",
        "    if isinstance(e, tuple):\n",
        "        op, l, r = e\n",
        "        # We simplify the children expressions.\n",
        "        ll = compute(l, varval)\n",
        "        rr = compute(r, varval)\n",
        "        # We compute the expression if we can.\n",
        "        if isnumber(ll) and isnumber(rr):\n",
        "            return calc(op, ll, rr)\n",
        "        else:\n",
        "          return (op, ll, rr)\n",
        "    elif isvariable(e):\n",
        "      if e in varval:\n",
        "        e = varval[e]\n",
        "        return e\n",
        "      else:\n",
        "        return e\n",
        "    else:\n",
        "        # Leaf. No simplification is possible.\n",
        "        return e\n"
      ]
    },
    {
      "cell_type": "markdown",
      "metadata": {
        "deletable": false,
        "editable": false,
        "nbgrader": {
          "cell_type": "markdown",
          "checksum": "7a4278cf7d62aa3a148ca5d59ad88270",
          "grade": false,
          "grade_id": "cell-4fb8f6d8e1e6bb48",
          "locked": true,
          "schema_version": 3,
          "solution": false
        },
        "id": "xnCu2yLiAgT1"
      },
      "source": [
        "Let us play with this. "
      ]
    },
    {
      "cell_type": "code",
      "execution_count": 16,
      "metadata": {
        "deletable": false,
        "editable": false,
        "nbgrader": {
          "cell_type": "code",
          "checksum": "59cf8197ebd391ea05df2a3bf21fc374",
          "grade": false,
          "grade_id": "cell-1f682817f27e55ae",
          "locked": true,
          "schema_version": 3,
          "solution": false
        },
        "colab": {
          "base_uri": "https://localhost:8080/"
        },
        "id": "slCZFHpWAgT1",
        "outputId": "f6863ba1-346d-4bf3-8974-2548975f74af"
      },
      "outputs": [
        {
          "output_type": "stream",
          "name": "stdout",
          "text": [
            "('*', 2, ('+', 'x', 1))\n",
            "14\n",
            "14\n"
          ]
        }
      ],
      "source": [
        "## You can modify this cell to test your code.\n",
        "\n",
        "e = ('*', 2, ('+', 'x', ('-', 3, 2)))\n",
        "print(compute(e))\n",
        "print(compute(e, varval={'x': 6}))\n",
        "e = ('*', 2, ('+','x',1))\n",
        "print(compute(e, varval={'x': 6}))"
      ]
    },
    {
      "cell_type": "markdown",
      "metadata": {
        "deletable": false,
        "editable": false,
        "nbgrader": {
          "cell_type": "markdown",
          "checksum": "6497fc14aee995d354ce1c8eab50d74d",
          "grade": false,
          "grade_id": "cell-8a9c17d91e585ec7",
          "locked": true,
          "schema_version": 3,
          "solution": false
        },
        "id": "q1WY1iy-AgT1"
      },
      "source": [
        "If we provide the values for only some of the variables, the compute function defined above, will plug in the values for those variables and perform all computations possible.  Of course, if the expression contains variables for which the valuation does not specify a value, the resulting expression will still contain those variables: it will not be simply a number.  In computer science, evaluating an expression as far as possible using the values for a subset of the variables is knwon as _partial evaluation_."
      ]
    },
    {
      "cell_type": "code",
      "execution_count": 17,
      "metadata": {
        "deletable": false,
        "editable": false,
        "nbgrader": {
          "cell_type": "code",
          "checksum": "6a1cb0b6385220877cde9005051519e4",
          "grade": false,
          "grade_id": "cell-6c34eb6946ce6584",
          "locked": true,
          "schema_version": 3,
          "solution": false
        },
        "id": "IkfQMDmeAgT2"
      },
      "outputs": [],
      "source": [
        "## Tests for compute.  10 points.\n",
        "\n",
        "e = 'x'\n",
        "assert compute(e) == 'x'\n",
        "assert compute(e, varval={'x': 3}) == 3\n",
        "\n",
        "e = ('*', 2, ('+', 'x', ('-', 3, 2)))\n",
        "assert compute(e) == ('*', 2, ('+', 'x', 1))\n",
        "assert compute(e, varval={'x': 6}) == 14\n",
        "assert compute(e, varval={'y': 10}) == ('*', 2, ('+', 'x', 1))\n",
        "\n",
        "e = ('+', ('-', 'yy', 3), ('*', 'x', 4))\n",
        "assert compute(e, varval={'x': 2}) == ('+', ('-', 'yy', 3), 8)\n",
        "assert compute(e, varval={'yy': 3}) == ('+', 0, ('*', 'x', 4))\n",
        "assert compute(e, varval={'x': 2, 'yy': 3}) == 8\n"
      ]
    },
    {
      "cell_type": "code",
      "execution_count": 18,
      "metadata": {
        "deletable": false,
        "editable": false,
        "nbgrader": {
          "cell_type": "code",
          "checksum": "e412d972ee8da29d275d03a80dfb7540",
          "grade": true,
          "grade_id": "cell-20e33477755577d5",
          "locked": true,
          "points": 10,
          "schema_version": 3,
          "solution": false
        },
        "id": "Tp5ljDwiAgT2"
      },
      "outputs": [],
      "source": [
        "### Hidden tests for compute.  10 points.\n",
        "\n"
      ]
    },
    {
      "cell_type": "markdown",
      "metadata": {
        "deletable": false,
        "editable": false,
        "nbgrader": {
          "cell_type": "markdown",
          "checksum": "1f275b13d88007a16d03e6c5296b9ee2",
          "grade": false,
          "grade_id": "cell-ee89b029a66f243f",
          "locked": true,
          "schema_version": 3,
          "solution": false
        },
        "id": "8Hkk2ONsAgT2"
      },
      "source": [
        "## When are two expressions equal? \n",
        "\n",
        "> _Or: it's better to be lucky than to be smart._\n",
        "\n",
        "> _Or: if you don't know how to do it right, do it at random._ \n",
        "\n",
        "> _Or: the power of randomization._"
      ]
    },
    {
      "cell_type": "markdown",
      "metadata": {
        "deletable": false,
        "editable": false,
        "nbgrader": {
          "cell_type": "markdown",
          "checksum": "cc8dedacc07cc4117da0003bec1d97f8",
          "grade": false,
          "grade_id": "cell-30082fab7070b665",
          "locked": true,
          "schema_version": 3,
          "solution": false
        },
        "id": "P0mOeUG-AgT3"
      },
      "source": [
        "We now consider the following problem: given two expressions $e$ and $f$, how can we decide whether they are equal in value, that is, whether they yield always the same value for all values of the variables? \n",
        "\n",
        "This _\"value equality\"_ is a different notion from the structural equality we defined before.  For instance, the two expressions `(\"+\", \"x\", 1)` and `(\"-\", (*, 2, \"x\"), \"x\")` are not structurally equal, but they are equal in values.  \n",
        "\n",
        "How can we test for value equality of expressions?  There are two ways: the high road, and the pirate road. Of course, we take the pirate road.  \n",
        "\n",
        "The high-road approach consists in trying to demonstrate, in some way, that the two expressions are equal.  One way of doing so would be to define a set of [rewriting rules](https://en.wikipedia.org/wiki/Rewriting) for expressions, that try to transform one expression into the other; this would mimick the process often done by hand to show that two expressions are equal.  Another way would be to use theorem provers that can reason about expressions and real numbers, such as [PVS](https://pvs.csl.sri.com).  The problem is that these approaches are a lot of work.  Is there a way to be lazy, and still get the job done? \n",
        "\n",
        "There is, it turns out.  Suppose you have two expressions $f, g$ containing variable $x$ only.  The idea is that if $f$ and $g$ are built with the usual operators of algebra, it is exceedingly unlikely for $f$ and $g$ to give the same value  many values of $x$, and yet not be always equal.  This would not be true if our expressions could contain if-then-else statements, but for the operators we defined so far, it holds.  Indeed, one could be more precise, and try to come up with a theorem of the form: \n",
        "\n",
        "> If $f$ and $g$ have \"zerosity\" $n$, and are equal for $n+1$ values of $x$, then they are equal for all values of $x$. \n",
        "\n",
        "We could then try to define the \"zerosity\" of an expression to make this hold: for example, for two polynomials of degree at most $d$, once you show that they are equal for $d+1$ points, they must be equal everywhere ([why?](https://en.wikipedia.org/wiki/Fundamental_theorem_of_algebra)).  But this again would be a smart approach, and we are trying to see if we can solve the problem while being as stupid as possible.  So our idea will simply be: pick 1000 values of $x$ at random; if the two expressions are equal for all the values, then they must be equal everywhere.  This is a somewhat special case of a [Monte Carlo method](https://en.wikipedia.org/wiki/Monte_Carlo_method), a method used to estimate the probability of complex phenomena (where expression equality is our phenomenon).\n",
        "\n",
        "There are only two wrinkles with this.  The first is that an expression can contain many variables, and we have to try to value assignments for all of the variables.  This is easy to overcome; we just need some helper function that gives us the set of variables in a function.  The second wrinkle is: how do we generate the possible value assignments?  How big do these values need to be on average?  According to what probability distribution?  We could dive into a lot of theory and reasoning about how to compute appropriate probability distributions, but since our goal is to be stupid, we will use one of the simplest distributions with infinite domain: the Gaussian one. "
      ]
    },
    {
      "cell_type": "markdown",
      "metadata": {
        "deletable": false,
        "editable": false,
        "nbgrader": {
          "cell_type": "markdown",
          "checksum": "92ee070f35e2890ebd807197e8be7b88",
          "grade": false,
          "grade_id": "cell-86759ff199da2d3",
          "locked": true,
          "schema_version": 3,
          "solution": false
        },
        "id": "W51aEljzAgT3"
      },
      "source": [
        "## Question 2: Variable Occurrences\n",
        "\n",
        "Let us start by writing the function `variables` such that, if `e` is an expression, `variables(e)` is the set of variables that appear in it."
      ]
    },
    {
      "cell_type": "code",
      "execution_count": 19,
      "metadata": {
        "deletable": false,
        "nbgrader": {
          "cell_type": "code",
          "checksum": "0941ca5bd5a9b6bf1f593e10faa1ab75",
          "grade": false,
          "grade_id": "cell-280d8cc43b7f69d3",
          "locked": false,
          "schema_version": 3,
          "solution": true
        },
        "id": "0NWLPLJAAgT3"
      },
      "outputs": [],
      "source": [
        "### Exercise: define `variables`\n",
        "def variables(e, var=set()):\n",
        "    # YOUR CODE HERE\n",
        "\n",
        "    if isinstance(e, tuple):\n",
        "        op, l, r = e\n",
        "        # We simplify the children expressions.\n",
        "        ll = variables(l, var)\n",
        "        rr = variables(r, var)\n",
        "        # We compute the expression if we can.\n",
        "        if isnumber(ll) and isnumber(rr):\n",
        "            return set()\n",
        "        if ll == rr:\n",
        "         #  print(\"Hello\")\n",
        "         #  print(type(var))\n",
        "            return var\n",
        "\n",
        "    elif isvariable(e):\n",
        "        var.add(e)\n",
        "     # print(var)\n",
        "        return  var\n",
        "    elif isnumber(e):\n",
        "        # Leaf. No simplification is possible.\n",
        "        return  var\n",
        "\n"
      ]
    },
    {
      "cell_type": "code",
      "execution_count": 20,
      "metadata": {
        "deletable": false,
        "editable": false,
        "nbgrader": {
          "cell_type": "code",
          "checksum": "895dd8c9240a11df159c25060f9bb046",
          "grade": false,
          "grade_id": "cell-ad31569ca29ef7ef",
          "locked": true,
          "schema_version": 3,
          "solution": false
        },
        "colab": {
          "base_uri": "https://localhost:8080/"
        },
        "id": "6hrNSpnVAgT3",
        "outputId": "05ce459f-68d9-47b7-e166-2da1c9412ca3"
      },
      "outputs": [
        {
          "output_type": "stream",
          "name": "stdout",
          "text": [
            "{'x'}\n"
          ]
        }
      ],
      "source": [
        "### Here you can write your own test\n",
        "print(variables(('+', 0, 'x')))"
      ]
    },
    {
      "cell_type": "code",
      "execution_count": 21,
      "metadata": {
        "deletable": false,
        "editable": false,
        "nbgrader": {
          "cell_type": "code",
          "checksum": "6d232510770f79d99b51680f8496a793",
          "grade": true,
          "grade_id": "cell-7e07af9f24fb34ca",
          "locked": true,
          "points": 10,
          "schema_version": 3,
          "solution": false
        },
        "id": "NaW6auQEAgT4"
      },
      "outputs": [],
      "source": [
        "### 10 points. Tests for `Expr.variables`\n",
        "\n",
        "e = ('*', ('+', 'x', 2), ('/', 'x', 'yay'))\n",
        "assert variables(e) == {'x', 'yay'}\n",
        "\n"
      ]
    },
    {
      "cell_type": "markdown",
      "metadata": {
        "deletable": false,
        "editable": false,
        "nbgrader": {
          "cell_type": "markdown",
          "checksum": "43dda16ab0f46762f2c7bb7c289df91b",
          "grade": false,
          "grade_id": "cell-94c8dec62d336b34",
          "locked": true,
          "schema_version": 3,
          "solution": false
        },
        "id": "F6Qg_HFAAgT4"
      },
      "source": [
        "## Question 3: Value equality\n",
        "\n",
        "Now we let you write the `value_equality` method.  \n",
        "Given the two expressions $e$ and $f$, first compute the set of variables $V$ that appear in either $e$ or $f$. \n",
        "Then, the idea consists in performing `num_sample` times the following test for equality: \n",
        "\n",
        "* First, produce a variable assignment (a dictionary) mapping each variable in $V$ to a random value.  Choose these random values from the gaussian distribution centered around 0 and with standard deviation 10 (for instance; any continuous distribution with infinite domain would work).  You can obtain such numbers using [`random.gauss(0, 10)`](https://docs.python.org/3/library/random.html#random.gauss). \n",
        "* Then, compute the values of $e$ and $f$ with respect to that variable evaluation.  If the values are closer than a specified tolerance `tolerance`, you consider $e$ and $f$ equal (for that variable valuation).  Otherwise, you can stop and return that $e$ and $f$ are different. \n",
        "\n",
        "If you can repeat the process `num_sample` times, and $e$ and $f$ are considered equal every time, then you declare them equal. "
      ]
    },
    {
      "cell_type": "code",
      "execution_count": 22,
      "metadata": {
        "deletable": false,
        "nbgrader": {
          "cell_type": "code",
          "checksum": "5eaaf3aea66bb96d9d0778ffffd9aedb",
          "grade": false,
          "grade_id": "cell-5301b9c404ca51c7",
          "locked": false,
          "schema_version": 3,
          "solution": true
        },
        "id": "UexxswXfAgT4"
      },
      "outputs": [],
      "source": [
        "### Exercise: implementation of value equality\n",
        "\n",
        "import random\n",
        "\n",
        "def value_equality(e, f, num_samples=1000, tolerance=1e-6):\n",
        "    \"\"\"Return True if the two expressions self and other are numerically\n",
        "    equivalent.  Equivalence is tested by generating\n",
        "    num_samples assignments, and checking that equality holds\n",
        "    for all of them.  Equality is checked up to tolerance, that is,\n",
        "    the values of the two expressions have to be closer than tolerance.\n",
        "    It can be done in less than 10 lines of code.\"\"\"\n",
        "    # YOUR CODE HERE\n",
        "    for _ in range(num_samples):\n",
        "      e_vars = variables(e)\n",
        "      f_vars = variables(f)\n",
        "      \n",
        "      var_dict = {}\n",
        "      for _ in e_vars | f_vars:\n",
        "        var_dict[_] = random.gauss(0,10)\n",
        "      e_value = compute(e, var_dict)\n",
        "      f_value = compute(f, var_dict)\n",
        "      if f_value - e_value > tolerance or f_value - e_value < (tolerance * -1):\n",
        "        return False\n",
        "    return True\n",
        "        \n",
        "\n"
      ]
    },
    {
      "cell_type": "code",
      "execution_count": 23,
      "metadata": {
        "deletable": false,
        "editable": false,
        "nbgrader": {
          "cell_type": "code",
          "checksum": "aed3f26b9ebc6ad23b10ed138698ce3b",
          "grade": false,
          "grade_id": "cell-5f5a4c14fc26b51",
          "locked": true,
          "schema_version": 3,
          "solution": false
        },
        "id": "Zw6d27VUAgT4"
      },
      "outputs": [],
      "source": [
        "### Here you can test your solution.\n"
      ]
    },
    {
      "cell_type": "code",
      "execution_count": 24,
      "metadata": {
        "deletable": false,
        "editable": false,
        "nbgrader": {
          "cell_type": "code",
          "checksum": "be3ff17a6a57c0f5b34da42962efe6a4",
          "grade": false,
          "grade_id": "cell-3b1f6290081ab547",
          "locked": true,
          "schema_version": 3,
          "solution": false
        },
        "id": "qScTpGYTAgT5"
      },
      "outputs": [],
      "source": [
        "### 5 points: Tests for value equality\n",
        "\n",
        "assert value_equality('x', 'x')\n",
        "assert value_equality(3, 3)\n",
        "assert not value_equality(3, 'x')\n",
        "\n",
        "e1 = ('+', ('*', 'x', 1), ('*', 'y', 0))\n",
        "e2 = 'x'\n",
        "assert value_equality(e1, e2)\n",
        "\n",
        "e3 = ('/', ('*', 'x', 'x'), ('*', 'x', 1))\n",
        "e3b = ('/', ('*', 'x', 'y'), ('*', 'x', 1))\n",
        "assert value_equality(e1, e3)\n",
        "assert not value_equality(e1, e3b)\n",
        "\n",
        "e4 = ('/', 'y', 2)\n",
        "assert not value_equality(e1, e4)\n",
        "assert not value_equality(e3, e4)\n",
        "\n",
        "e5 = (\"+\", \"cat\", (\"-\", \"dog\", \"dog\"))\n",
        "assert value_equality(e5, \"cat\")\n"
      ]
    },
    {
      "cell_type": "code",
      "execution_count": 25,
      "metadata": {
        "deletable": false,
        "editable": false,
        "nbgrader": {
          "cell_type": "code",
          "checksum": "311398ef01ef28b1bc6441247d4603a4",
          "grade": true,
          "grade_id": "cell-8b2f4e9cc8c975b8",
          "locked": true,
          "points": 10,
          "schema_version": 3,
          "solution": false
        },
        "id": "s2FGpplnAgT5"
      },
      "outputs": [],
      "source": [
        "## 10 points: hidden tests for value equality.\n",
        "\n"
      ]
    },
    {
      "cell_type": "markdown",
      "metadata": {
        "deletable": false,
        "editable": false,
        "nbgrader": {
          "cell_type": "markdown",
          "checksum": "19977761346bd7a7ece59ce0876ccf9e",
          "grade": false,
          "grade_id": "cell-bff05ee5e5f2ff41",
          "locked": true,
          "schema_version": 3,
          "solution": false
        },
        "id": "IpeaSqkjAgT5"
      },
      "source": [
        "## Symbolic Expressions\n",
        "\n",
        "The notation we developed enables the representation of _symbolic expressions:_ expressions in which not only numbers appear, but also symbols.  Accordingly, we can perform _symbolic_ operations on the expressions: operations that encode what you do with pencil and paper when you work on an expression. \n",
        "\n",
        "Our first symbolic operations will be the implementation of _derivatives._"
      ]
    },
    {
      "cell_type": "markdown",
      "metadata": {
        "deletable": false,
        "editable": false,
        "nbgrader": {
          "cell_type": "markdown",
          "checksum": "c6fc4b64317198da14f9c876e79552cc",
          "grade": false,
          "grade_id": "cell-4a61db7d3f33908a",
          "locked": true,
          "schema_version": 3,
          "solution": false
        },
        "id": "xwqQFH9HAgT6"
      },
      "source": [
        "### Derivatives\n",
        "\n",
        "Given an expression $f$ and a variable $x$, we can compute symbolically the (partial) derivative\n",
        "\n",
        "$$\n",
        "\\frac{\\partial f}{\\partial x}\n",
        "$$\n",
        "\n",
        "of $f$ with respect to $x$. \n",
        "For instance:\n",
        "\n",
        "$$\n",
        "\\begin{align*}\n",
        "\\frac{\\partial}{\\partial x}(x^2 + 3y + 4) & = 2x \\\\[1ex]\n",
        "\\frac{\\partial}{\\partial x}(x^2y + xy^2 + z) & = 2yx + y^2 + z \\; . \n",
        "\\end{align*}\n",
        "$$\n",
        "\n",
        "Here, the \"partial\" in partial derivative simply means: if you need to take the derivative with respect to a specific variable, simply treat all other variables as constants. \n",
        "\n",
        "Computing symbolic derivatives seems complicated, but we can take it in steps.  Our expression trees have leaves, consisting of \n",
        "\n",
        "* numerical constants\n",
        "* variables\n",
        "\n",
        "and operators, corresponding to `+`, `-`, `*`, `/`. \n",
        "Therefore, we break down the task into the computation of the symbolic derivative for numerical constants, variables, and arithmetic operators.  The cases for the leaf nodes are:  \n",
        "\n",
        "* For a constant $c$, $\\partial c / \\partial x = 0$.\n",
        "* For a variable $y \\neq x$,  $\\partial y / \\partial x = 0$.\n",
        "* $\\partial x / \\partial x = 1$.\n",
        "\n",
        "For operators, we can use:\n",
        "\n",
        "$$\n",
        " \\begin{align*}\n",
        " \\frac{\\partial}{\\partial x}(f \\pm g) & = \\frac{\\partial f}{\\partial x} \\pm \\frac  {\\partial g}{\\partial x}, \\\\[1ex]\n",
        " \\frac{\\partial}{\\partial x}(f \\cdot g) & = \\frac{\\partial f}{\\partial x} \\cdot g + f \\cdot \\frac{\\partial g}{\\partial x}, \\\\[1ex]\n",
        " \\frac{\\partial}{\\partial x}\\left(\\frac{f}{g}\\right) & = \\frac{\\frac\n",
        "  {\\partial f}{\\partial x} \\cdot g - f \\cdot \\frac{\\partial g}{\\partial x}}{g^2}. \n",
        "\\end{align*}\n",
        "$$"
      ]
    },
    {
      "cell_type": "markdown",
      "metadata": {
        "deletable": false,
        "editable": false,
        "nbgrader": {
          "cell_type": "markdown",
          "checksum": "6de7271e721c15d6e218da2a6d8c8c9f",
          "grade": false,
          "grade_id": "cell-f805d64b2ee5310f",
          "locked": true,
          "schema_version": 3,
          "solution": false
        },
        "id": "SsontoQnAgT6"
      },
      "source": [
        "## Question 4: Derivative of a leaf expression\n",
        "\n",
        "Let's start from a leaf expression.  The function `derivate_leaf` takes as argument an expression that is a leaf, and a variable, and returns the symbolic derivative of the leaf writh respect to the variable. "
      ]
    },
    {
      "cell_type": "code",
      "execution_count": 26,
      "metadata": {
        "deletable": false,
        "nbgrader": {
          "cell_type": "code",
          "checksum": "a862466c86d6d5ebe481eaa00be5f0e3",
          "grade": false,
          "grade_id": "cell-134110fad493b198",
          "locked": false,
          "schema_version": 3,
          "solution": true
        },
        "id": "W2tk6tyIAgT6"
      },
      "outputs": [],
      "source": [
        "### Derivation of a leaf expression\n",
        "\n",
        "def derivate_leaf(e, x):\n",
        "    \"\"\"This function takes as input an expression e and a variable x,\n",
        "    and returns the symbolic derivative of e wrt. x, as an expression.\"\"\"\n",
        "    if isnumber(e):\n",
        "      return 0\n",
        "    elif isvariable(e) and e != x:\n",
        "      return 0\n",
        "    elif isvariable(e) and e == x:\n",
        "      return 1\n",
        "\n",
        "    # YOUR CODE HERE\n"
      ]
    },
    {
      "cell_type": "code",
      "execution_count": 27,
      "metadata": {
        "deletable": false,
        "editable": false,
        "nbgrader": {
          "cell_type": "code",
          "checksum": "7dac7994fb98f2ad080842f75a3e885e",
          "grade": false,
          "grade_id": "cell-d529ff552fdeed7a",
          "locked": true,
          "schema_version": 3,
          "solution": false
        },
        "id": "S44y6RJpAgT7"
      },
      "outputs": [],
      "source": [
        "### You can play here with your code.\n"
      ]
    },
    {
      "cell_type": "markdown",
      "metadata": {
        "deletable": false,
        "editable": false,
        "nbgrader": {
          "cell_type": "markdown",
          "checksum": "fcec5a836a0dc47621ca2088346a5d54",
          "grade": false,
          "grade_id": "cell-e0b2c1dabd5cee16",
          "locked": true,
          "schema_version": 3,
          "solution": false
        },
        "id": "YpWMqisHAgT7"
      },
      "source": [
        "Here are some tests. "
      ]
    },
    {
      "cell_type": "code",
      "execution_count": 28,
      "metadata": {
        "deletable": false,
        "editable": false,
        "nbgrader": {
          "cell_type": "code",
          "checksum": "5647cc987ade463a62b0d513884f44ff",
          "grade": true,
          "grade_id": "cell-699beeb32b8c33e9",
          "locked": true,
          "points": 5,
          "schema_version": 3,
          "solution": false,
          "task": false
        },
        "id": "8MLaY5l4AgT7"
      },
      "outputs": [],
      "source": [
        "# 5 points.\n",
        "\n",
        "assert derivate_leaf(\"x\", \"x\") == 1\n",
        "assert derivate_leaf(\"x\", \"y\") == 0\n",
        "assert derivate_leaf(\"y\", \"z\") == 0\n",
        "assert derivate_leaf(4, \"x\") == 0\n"
      ]
    },
    {
      "cell_type": "markdown",
      "metadata": {
        "deletable": false,
        "editable": false,
        "nbgrader": {
          "cell_type": "markdown",
          "checksum": "d59be33092ed04b61c9ec7bf8c39ce11",
          "grade": false,
          "grade_id": "cell-c942c8b9aae37b01",
          "locked": true,
          "schema_version": 3,
          "solution": false
        },
        "id": "ooGzljpTAgT8"
      },
      "source": [
        "## Question 5: Derivative of an expression\n",
        "\n",
        "We now let you implement the derivative of a general expression.  The function is recursive: for instance, if the expression is (`*`, $f$, $g$), to compute its derivative with respect to a variable $x$, we use: \n",
        "\n",
        "$$\n",
        "\\frac{\\partial}{\\partial x}(f \\cdot g) = \\frac{\\partial f}{\\partial x} \\cdot g + f \\cdot \\frac{\\partial g}{\\partial x}\n",
        "$$\n",
        "\n",
        "and so we need to recursively call symbolic derivation on the $f$ and $g$ sub-expressions, to obtain $\\partial f / \\partial x$ and $\\partial g / \\partial x$, and then produce and return an expression representing the result. \n",
        "\n",
        "**Important:** The code for checking expression equality is _not_ able to cope with the commutativity of `+` and `*`.  So, in your solution, please use _exactly_ these forms: \n",
        "\n",
        "$$\n",
        " \\begin{align*}\n",
        " \\frac{\\partial}{\\partial x}(f \\pm g) & = \\frac{\\partial f}{\\partial x} \\pm \\frac  {\\partial g}{\\partial x}, \\\\[1ex]\n",
        " \\frac{\\partial}{\\partial x}(f \\cdot g) & = \\frac{\\partial f}{\\partial x} \\cdot g + f \\cdot \\frac{\\partial g}{\\partial x}, \\\\[1ex]\n",
        " \\frac{\\partial}{\\partial x}\\left(\\frac{f}{g}\\right) & = \\frac{\\frac\n",
        "  {\\partial f}{\\partial x} \\cdot g - f \\cdot \\frac{\\partial g}{\\partial x}}{g^2}. \n",
        "\\end{align*}\n",
        "$$\n",
        "\n",
        "and not, for instance, $\\frac{\\partial}{\\partial x}(f \\cdot g) = g \\cdot \\frac{\\partial f}{\\partial x} + f \\cdot \\frac{\\partial g}{\\partial x}$, which is mathematically equivalent, but would be considered different by the tests. \n",
        "\n",
        "\n",
        "\n"
      ]
    },
    {
      "cell_type": "code",
      "execution_count": 39,
      "metadata": {
        "deletable": false,
        "nbgrader": {
          "cell_type": "code",
          "checksum": "7bcedd41721ae078f51c5fc083784cdd",
          "grade": false,
          "grade_id": "cell-e0d016665e5e18e3",
          "locked": false,
          "schema_version": 3,
          "solution": true
        },
        "colab": {
          "base_uri": "https://localhost:8080/"
        },
        "id": "LiI0MO2jAgT8",
        "outputId": "3ee0ac33-bc4a-4ba2-8a20-611477af2504"
      },
      "outputs": [
        {
          "output_type": "stream",
          "name": "stdout",
          "text": [
            "('+', ('*', 0, 'x'), ('*', '3', 1))\n",
            "('+', ('*', 1, 'x'), ('*', 'x', 1))\n",
            "('+', ('+', ('*', 1, 'x'), ('*', 'x', 1)), ('+', ('*', 0, 'x'), ('*', '3', 1)))\n"
          ]
        }
      ],
      "source": [
        "### Implement `derivate`\n",
        "\n",
        "def derivate(e, x):\n",
        "    \"\"\"Returns the derivative of e wrt x.\n",
        "    It can be done in less than 15 lines of code.\"\"\"\n",
        "    #e will always be a tuple\n",
        "    op, f, g = e \n",
        "    if not isinstance(f, tuple):\n",
        "      ff = derivate_leaf(f,x)\n",
        "    else:\n",
        "      ff = derivate(f,x)\n",
        "\n",
        "    if not isinstance(g, tuple):\n",
        "      gg = derivate_leaf(g,x)\n",
        "    else:\n",
        "      gg = derivate(g,x)\n",
        "\n",
        "    if op == '+':\n",
        "      return ('+', ff , gg)\n",
        "    elif op == '-':\n",
        "      return ('-', ff , gg)\n",
        "    elif op == \"*\":\n",
        "      return ('+', ('*', ff , g) , ('*', f, gg))\n",
        "    elif op == \"/\":\n",
        "      return ('/', ('-', ('*', ff, g), ('*', f, gg) ), ('*', g, g))\n",
        "      \n",
        "    #base case for leafs\n",
        "    #call derivate_leaf here\n",
        "\n",
        "print(derivate(('*', '3', 'x'), 'x')) \n",
        "print(derivate(('*', 'x', 'x'), 'x'))\n",
        "print(derivate(('+', ('*', 'x', 'x'), ('*', '3', 'x')), 'x')) \n"
      ]
    },
    {
      "cell_type": "code",
      "execution_count": 40,
      "metadata": {
        "deletable": false,
        "editable": false,
        "nbgrader": {
          "cell_type": "code",
          "checksum": "5de92591c24b2c77891f83841e433d8e",
          "grade": false,
          "grade_id": "cell-2bb7f3c9ca8dc22e",
          "locked": true,
          "schema_version": 3,
          "solution": false
        },
        "colab": {
          "base_uri": "https://localhost:8080/"
        },
        "id": "Wah1aG11AgT8",
        "outputId": "ca406aab-ce8f-4a60-ac07-36309ada8654"
      },
      "outputs": [
        {
          "output_type": "execute_result",
          "data": {
            "text/plain": [
              "('+', ('+', ('*', 1, 'x'), ('*', 'x', 1)), ('+', ('*', 0, 'x'), ('*', 3, 1)))"
            ]
          },
          "metadata": {},
          "execution_count": 40
        }
      ],
      "source": [
        "### You can play here with your code.\n",
        "e1 = ('*', 'x', 'x')\n",
        "e2 = ('*', 3, 'x')\n",
        "num = ('-', e1, e2)\n",
        "e3 = ('*', 'a', 'x')\n",
        "den = ('+', e1, e3)\n",
        "e = ('/', num, den)\n",
        "derivate(('+', e1, e2), 'x')"
      ]
    },
    {
      "cell_type": "code",
      "execution_count": 41,
      "metadata": {
        "deletable": false,
        "editable": false,
        "nbgrader": {
          "cell_type": "code",
          "checksum": "d0215b10cd67d93308e8174c8adb2084",
          "grade": false,
          "grade_id": "cell-b6f2bea0c4f4843d",
          "locked": true,
          "schema_version": 3,
          "solution": false
        },
        "id": "_BHpBbdIAgT9"
      },
      "outputs": [],
      "source": [
        "### Tests for `derivate` for single-operator expressions\n",
        "\n",
        "assert derivate(('+', 'x', 'x'), 'x') == ('+', 1, 1)\n",
        "assert derivate(('-', 4, 'x'), 'x') == ('-', 0, 1)\n",
        "assert derivate(('*', 2, 'x'), 'x') == ('+', ('*', 0, 'x'), ('*', 2, 1))\n",
        "assert derivate(('/', 2, 'x'), 'x') == ('/', ('-', ('*', 0, 'x'), ('*', 2, 1)), ('*', 'x', 'x'))\n"
      ]
    },
    {
      "cell_type": "code",
      "execution_count": 42,
      "metadata": {
        "deletable": false,
        "editable": false,
        "nbgrader": {
          "cell_type": "code",
          "checksum": "a823f6f7821a3b0d86775939f86a022e",
          "grade": true,
          "grade_id": "cell-4889538125b25075",
          "locked": true,
          "points": 10,
          "schema_version": 3,
          "solution": false
        },
        "id": "nHnywrweAgT9"
      },
      "outputs": [],
      "source": [
        "### 10 points: Hidden tests for `derivate` for single-operator expressions\n",
        "\n"
      ]
    },
    {
      "cell_type": "code",
      "execution_count": 43,
      "metadata": {
        "deletable": false,
        "editable": false,
        "nbgrader": {
          "cell_type": "code",
          "checksum": "254da17f5b6dd3250337c21a0cccafe7",
          "grade": true,
          "grade_id": "cell-88ba047df3b17c26",
          "locked": true,
          "points": 10,
          "schema_version": 3,
          "solution": false
        },
        "id": "hH4BbLBTAgT9"
      },
      "outputs": [],
      "source": [
        "### 10 points: Tests for `derivate` for composite expressions\n",
        "\n",
        "e1 = ('*', 'x', 'x')\n",
        "e2 = ('*', 3, 'x')\n",
        "num = ('-', e1, e2)\n",
        "e3 = ('*', 'a', 'x')\n",
        "den = ('+', e1, e3)\n",
        "e = ('/', num, den)\n",
        "\n",
        "f = ('/',\n",
        " ('-',\n",
        "  ('*',\n",
        "   ('-',\n",
        "    ('+', ('*', 1, 'x'), ('*', 'x', 1)),\n",
        "    ('+', ('*', 0, 'x'), ('*', 3, 1))),\n",
        "   ('+', ('*', 'x', 'x'), ('*', 'a', 'x'))),\n",
        "  ('*',\n",
        "   ('-', ('*', 'x', 'x'), ('*', 3, 'x')),\n",
        "   ('+',\n",
        "    ('+', ('*', 1, 'x'), ('*', 'x', 1)),\n",
        "    ('+', ('*', 0, 'x'), ('*', 'a', 1))))),\n",
        " ('*',\n",
        "  ('+', ('*', 'x', 'x'), ('*', 'a', 'x')),\n",
        "  ('+', ('*', 'x', 'x'), ('*', 'a', 'x'))))\n",
        "\n",
        "assert derivate(e, 'x') == f\n",
        "\n"
      ]
    },
    {
      "cell_type": "code",
      "execution_count": 33,
      "metadata": {
        "deletable": false,
        "editable": false,
        "nbgrader": {
          "cell_type": "code",
          "checksum": "ed4d4c652af4cae79de0d596628d55b1",
          "grade": false,
          "grade_id": "cell-704ebafb3116ebbf",
          "locked": true,
          "schema_version": 3,
          "solution": false
        },
        "id": "19qYaO5MAgT9"
      },
      "outputs": [],
      "source": [
        ""
      ]
    }
  ],
  "metadata": {
    "colab": {
      "collapsed_sections": [],
      "name": "Homework_9_test.ipynb",
      "provenance": []
    },
    "kernelspec": {
      "display_name": "Python 3",
      "language": "python",
      "name": "python3"
    },
    "language_info": {
      "codemirror_mode": {
        "name": "ipython",
        "version": 3
      },
      "file_extension": ".py",
      "mimetype": "text/x-python",
      "name": "python",
      "nbconvert_exporter": "python",
      "pygments_lexer": "ipython3",
      "version": "3.8.10"
    },
    "test_info": {
      "id": "c53714e814aab272365f53859a47046c2bfa436c"
    }
  },
  "nbformat": 4,
  "nbformat_minor": 0
}