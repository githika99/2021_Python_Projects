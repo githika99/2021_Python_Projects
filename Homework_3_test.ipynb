{
  "cells": [
    {
      "cell_type": "markdown",
      "metadata": {
        "id": "tDy7NPETrsfm"
      },
      "source": [
        "Before you turn this problem in, make sure everything runs as expected. First, **restart the kernel** (in the menubar, select Kernel$\\rightarrow$Restart) and then **run all cells** (in the menubar, select Cell$\\rightarrow$Run All).\n",
        "\n",
        "Make sure you fill in any place that says `YOUR CODE HERE` or \"YOUR ANSWER HERE\", as well as your name and collaborators below:"
      ]
    },
    {
      "cell_type": "code",
      "execution_count": 1,
      "metadata": {
        "id": "PBj6Eba-rsfz"
      },
      "outputs": [],
      "source": [
        "NAME = \"\"\n",
        "COLLABORATORS = \"\""
      ]
    },
    {
      "cell_type": "markdown",
      "metadata": {
        "id": "X9Ugo_xvrsf3"
      },
      "source": [
        "---"
      ]
    },
    {
      "cell_type": "markdown",
      "metadata": {
        "deletable": false,
        "editable": false,
        "nbgrader": {
          "cell_type": "markdown",
          "checksum": "1170e21fc9c808bc42e060b619464398",
          "grade": false,
          "grade_id": "cell-d6de68fd7504278f",
          "locked": true,
          "schema_version": 3,
          "solution": false
        },
        "id": "YCNIPqQdrsf5"
      },
      "source": [
        "# Homework 3: Recursion\n",
        "## CSE 30 Spring 2022\n",
        "\n",
        "Copyright Luca de Alfaro, 2020.  CC-BY-NC License."
      ]
    },
    {
      "cell_type": "markdown",
      "metadata": {
        "deletable": false,
        "editable": false,
        "nbgrader": {
          "cell_type": "markdown",
          "checksum": "4281bdd32b68db9972e77a29354bb6b5",
          "grade": false,
          "grade_id": "cell-f1a66e4e50206677",
          "locked": true,
          "schema_version": 3,
          "solution": false
        },
        "id": "Dra-CylOrsf6"
      },
      "source": [
        "# Instructions\n",
        "\n",
        "## The Format of a Python Notebook\n",
        "\n",
        "*This* is a Python Notebook homework.  It consists of various types of cells: \n",
        "\n",
        "* Text: you can read them :-) \n",
        "* Code: you should run them, as they may set up the problems that you are asked to solve.\n",
        "* **Solution:** These are cells where you should enter a solution.  You will see a marker in these cells that indicates where your work should be inserted.  \n",
        "\n",
        "```\n",
        "    # YOUR CODE HERE\n",
        "```    \n",
        "\n",
        "* Test: These cells contains some tests, and are worth some points.  You should run the cells as a way to debug your code, and to see if you understood the question, and whether the output of your code is produced in the correct format.  The notebook contains both the tests you see, and some secret ones that you cannot see.  This prevents you from using the simple trick of hard-coding the desired output. "
      ]
    },
    {
      "cell_type": "markdown",
      "metadata": {
        "deletable": false,
        "editable": false,
        "nbgrader": {
          "cell_type": "markdown",
          "checksum": "53c2d80d48bb0c60d81aabd6e95453b1",
          "grade": false,
          "grade_id": "cell-10bf782469f33756",
          "locked": true,
          "schema_version": 3,
          "solution": false
        },
        "id": "NakUGTXJrsf8"
      },
      "source": [
        "## Running your notebook\n",
        "\n",
        "**Running a cell.**\n",
        "To run a cell of the notebook, either click on the icon to its top left, or press shift-ENTER (or shift-Return). \n",
        "\n",
        "**Disconnections.**\n",
        "When you open a notebook, Google automatically connects a server to the web page, so that you can type code in your browser, and the code is run on that server.  If you are idle for more than a few minutes, Google keeps all you typed (none of your work is lost), but the server may be disconnected due to inactivity.  When the server is disconnected, it loses all memory of anything you have defined (functions, classes, variables, etc). \n",
        "\n",
        "If you do get disconnected, select Runtime > Run All (or Runtime > Run before) to ensure everything is defined as it should. \n",
        "\n",
        "### DO NOT\n",
        "\n",
        "* **Do not add, delete, reorder, remove cells.**  This breaks the relationship between your work, and the grading system, making it impossible to grade your work.\n",
        "\n",
        "### Debugging\n",
        "To debug, you can add print statements to your code.  They should have no effect on the tests.  Just be careful that if you add too many of them inside loops and similar, you may cause for some of the tests we will do such an enormous amount of output that grading might timeout (and you may not get credit for an answer). \n",
        "\n",
        "### Asking for help\n",
        "The tutors and TAs should have access to the notebook; otherwise, you can always share a link with them.  In this way, they can take a look at your work and help you with debugging and with any questions you might have."
      ]
    },
    {
      "cell_type": "markdown",
      "metadata": {
        "deletable": false,
        "editable": false,
        "nbgrader": {
          "cell_type": "markdown",
          "checksum": "f2fabdb0e10d1be3794c746ddedb8831",
          "grade": false,
          "grade_id": "cell-902b738fe29fda24",
          "locked": true,
          "schema_version": 3,
          "solution": false
        },
        "id": "mtTW0Ad9rsf_"
      },
      "source": [
        "## Submitting Your Notebook\n",
        "\n",
        "To submit:\n",
        "* **Check your work.** Before submitting, select Runtime > Restart and Run All, and check that you don't get any unexpected error. \n",
        "* **Download the notebook.** Click on File > Download .ipynb . **Do not download the .py file.**\n",
        "* **Upload.** Upload the .ipynb file to **[this Google form](https://docs.google.com/forms/d/e/1FAIpQLSf1O35ApAaZCIlvMbMAgGsUYzT48eiv72QLqiwcBbIbATZQXg/viewform?usp=sf_link)**.\n",
        "* This homework is due by 11:59pm on **Tuesday, 12 April 2022**."
      ]
    },
    {
      "cell_type": "markdown",
      "metadata": {
        "deletable": false,
        "editable": false,
        "nbgrader": {
          "cell_type": "markdown",
          "checksum": "5a926f29b5e106a88ccfa4ce1972131b",
          "grade": false,
          "grade_id": "cell-5720c2bbcaaea2ea",
          "locked": true,
          "schema_version": 3,
          "solution": false
        },
        "id": "6tdPukZQrsgC"
      },
      "source": [
        "## The Test\n",
        "\n",
        "There are three questions in this assignment, for a total of 40 points. "
      ]
    },
    {
      "cell_type": "code",
      "execution_count": 2,
      "metadata": {
        "deletable": false,
        "editable": false,
        "nbgrader": {
          "cell_type": "code",
          "checksum": "2db7d15336ed2d0aec37ce515e22ddba",
          "grade": false,
          "grade_id": "cell-d3ddd065dea6a750",
          "locked": true,
          "schema_version": 3,
          "solution": false
        },
        "id": "W1TBpYLErsgE"
      },
      "outputs": [],
      "source": [
        "# Let me define the function I use for testing.  Don't change this cell.\n",
        "\n",
        "def check_equal(x, y, msg=None):\n",
        "    if x == y:\n",
        "        if msg is None:\n",
        "            print(\"Success\")\n",
        "        else:\n",
        "            print(msg, \": Success\")\n",
        "    else:\n",
        "        if msg is None:\n",
        "            print(\"Error:\")\n",
        "        else:\n",
        "            print(\"Error in\", msg, \":\")\n",
        "        print(\"    Your answer was:\", x)\n",
        "        print(\"    Correct answer: \", y)\n",
        "    assert x == y, \"%r and %r are different\" % (x, y)\n"
      ]
    },
    {
      "cell_type": "markdown",
      "metadata": {
        "deletable": false,
        "editable": false,
        "nbgrader": {
          "cell_type": "markdown",
          "checksum": "5626dbfe386d78670993af0ec0410324",
          "grade": false,
          "grade_id": "cell-76d2dcc759e8cb13",
          "locked": true,
          "schema_version": 3,
          "solution": false
        },
        "id": "pumPB0uQrsgG"
      },
      "source": [
        "## Question 1: Sum of Leaves\n",
        "\n",
        "Consider a binary tree defined as in the book chapter, where a node can be either a number (an integer or floating-point number), or a tuple consisting of a left subtree, and a right subtree.  Examples of trees are: \n",
        "\n",
        "    4.5\n",
        "    (3, 5)\n",
        "    (3, (5, 7))\n",
        "    ((3, 4), ((4, 2), 9))\n",
        "    \n",
        "Write a function `total(t)` that takes the tree `t`, and returns the total of all the leaves in the tree. "
      ]
    },
    {
      "cell_type": "code",
      "execution_count": 3,
      "metadata": {
        "deletable": false,
        "nbgrader": {
          "cell_type": "code",
          "checksum": "e7c8dd6ab3208e372ac809989f7f9f71",
          "grade": false,
          "grade_id": "cell-1e86f34103ec77b",
          "locked": false,
          "schema_version": 3,
          "solution": true
        },
        "id": "8E7SoyHyrsgH"
      },
      "outputs": [],
      "source": [
        "\n",
        "def total(t):\n",
        "    # YOUR CODE HERE\n",
        "    #Total value of a tree\n",
        "    #compute left and right side using recursion\n",
        "    #a branch (2) will be a tuple; while a leaf (1) will be a float\n",
        "    if isinstance(t, float) or isinstance(t, int):\n",
        "      return t\n",
        "    else:\n",
        "      return total(t[0]) + total(t[1])\n",
        "      \n",
        "\n"
      ]
    },
    {
      "cell_type": "code",
      "execution_count": 4,
      "metadata": {
        "deletable": false,
        "nbgrader": {
          "cell_type": "code",
          "checksum": "245f45b4d6783effb263deadb3bb3cad",
          "grade": false,
          "grade_id": "cell-9530b7ecc8c21bdc",
          "locked": false,
          "schema_version": 3,
          "solution": true
        },
        "colab": {
          "base_uri": "https://localhost:8080/"
        },
        "id": "tQpczmPLrsgI",
        "outputId": "ada53256-ea91-487f-be87-795e6415b12a"
      },
      "outputs": [
        {
          "output_type": "stream",
          "name": "stdout",
          "text": [
            "12.4\n"
          ]
        }
      ],
      "source": [
        "# This is a place where you can write additional tests to help you test\n",
        "# your code, or debugging code, if you need.  You can also leave it blank.\n",
        "print(total((5.4, 7)))\n",
        "# YOUR CODE HERE\n"
      ]
    },
    {
      "cell_type": "markdown",
      "metadata": {
        "deletable": false,
        "editable": false,
        "nbgrader": {
          "cell_type": "markdown",
          "checksum": "daf0653393d87c700c4bbd2dc290da42",
          "grade": false,
          "grade_id": "cell-31305d34c0252ef3",
          "locked": true,
          "schema_version": 3,
          "solution": false
        },
        "id": "CqYsM1v6rsgJ"
      },
      "source": [
        "Here are some tests for your code. "
      ]
    },
    {
      "cell_type": "code",
      "execution_count": 5,
      "metadata": {
        "deletable": false,
        "editable": false,
        "nbgrader": {
          "cell_type": "code",
          "checksum": "9f3e9a09f944ed8d65f95ea63be775c4",
          "grade": true,
          "grade_id": "cell-f5de3c2179453789",
          "locked": true,
          "points": 10,
          "schema_version": 3,
          "solution": false
        },
        "colab": {
          "base_uri": "https://localhost:8080/"
        },
        "id": "i5XNMms0rsgK",
        "outputId": "0ad66a38-1ba3-4fd5-ae7b-402952a9aae8"
      },
      "outputs": [
        {
          "output_type": "stream",
          "name": "stdout",
          "text": [
            "Success\n",
            "Success\n"
          ]
        }
      ],
      "source": [
        "### 10 points.  Simple tests.\n",
        "\n",
        "check_equal(total(5.4), 5.4)\n",
        "check_equal(total((4, 6)), 10)\n",
        "\n"
      ]
    },
    {
      "cell_type": "code",
      "execution_count": 6,
      "metadata": {
        "deletable": false,
        "editable": false,
        "nbgrader": {
          "cell_type": "code",
          "checksum": "bbb1dc7e219a0a321f85bebde2c5ace3",
          "grade": true,
          "grade_id": "cell-2d7f0d0adaed0a72",
          "locked": true,
          "points": 10,
          "schema_version": 3,
          "solution": false
        },
        "colab": {
          "base_uri": "https://localhost:8080/"
        },
        "id": "_8fdvNQUrsgL",
        "outputId": "1687f6ea-64bf-42fa-cbe1-f715aa169cec"
      },
      "outputs": [
        {
          "output_type": "stream",
          "name": "stdout",
          "text": [
            "Success\n",
            "Success\n"
          ]
        }
      ],
      "source": [
        "### 10 points.  Tests on trees.\n",
        "\n",
        "check_equal(total((3, (4, (5, 6)))), 18)\n",
        "check_equal(total((((3, 4), 5), ((4, 3), (2, 1)))), 22)\n",
        "\n"
      ]
    },
    {
      "cell_type": "markdown",
      "metadata": {
        "deletable": false,
        "editable": false,
        "nbgrader": {
          "cell_type": "markdown",
          "checksum": "588501cfdcfcaa8d2aadc7a6a4a1655e",
          "grade": false,
          "grade_id": "cell-d534c831582c6408",
          "locked": true,
          "schema_version": 3,
          "solution": false
        },
        "id": "Zlm2P1cJrsgM"
      },
      "source": [
        "## Question 2: Largest Subtree Total\n",
        "\n",
        "For a tree $t = (t_1, t_2)$, the subtrees of $t$ consist of $t$, and of the subtrees of $t_1$ and $t_2$. \n",
        "That is, in formulas, \n",
        "\n",
        "$$\n",
        "\\mbox{subtrees}(t) = \\{ t \\} \\cup \\mbox{subtrees}(t_1) \\cup \\mbox{subtrees}(t_2) . \n",
        "$$\n",
        "\n",
        "To give a concrete example, the subtrees of $t = (3, (4, 5))$ are: \n",
        "\n",
        "* $(3, (4, 5))$\n",
        "* $3$\n",
        "* $(4, 5)$\n",
        "* $4$\n",
        "* $5$\n",
        "\n",
        "Given a tree `t`, write a function `max_subtree_total(t)` that computes the largest total of any subtree in `t`. \n",
        "\n",
        "Of course, if the numbers in the tree are all non-negative, then the largest total corresponds to the complete tree, but this is not the case if there are leaves with value smaller than 0.  For instance, for the tree \n",
        "\n",
        "    (-2, (3, 4))\n",
        "    \n",
        "the largest total corresponds to the subtree `(3, 4)`, which has total 7. \n",
        "\n",
        "If you wish, you can use the `total` function you developed in the previous question, but you don't have to. "
      ]
    },
    {
      "cell_type": "code",
      "execution_count": 7,
      "metadata": {
        "deletable": false,
        "nbgrader": {
          "cell_type": "code",
          "checksum": "9ea7a71c526f7e315fa9ebd71938c2c5",
          "grade": false,
          "grade_id": "cell-832253a53f96122c",
          "locked": false,
          "schema_version": 3,
          "solution": true
        },
        "id": "MMyjmt_GrsgN"
      },
      "outputs": [],
      "source": [
        "#program will be slow on big tree since it uses recursion twice\n",
        "#finds sum of whole tree\n",
        "def total(t):\n",
        "    if isinstance(t, float) or isinstance(t, int):\n",
        "      return t\n",
        "    else:\n",
        "      return total(t[0]) + total(t[1])\n",
        "\n",
        "#global variable is not good, but it is simple solution\n",
        "values = []\n",
        "def max_subtree(tree):\n",
        "    global values\n",
        "    values.append(total(tree))\n",
        "    if isinstance(tree, float) or isinstance(tree, int):\n",
        "      values.append(tree)\n",
        "    else:\n",
        "        max_subtree(tree[0])\n",
        "        max_subtree(tree[1])\n",
        "\n",
        "#since we cannot return the max in the previous function, we must have this function\n",
        "def max_subtree_total(tree):\n",
        "    max_subtree(tree)\n",
        "    maximum = max(values)\n",
        "    values.clear()\n",
        "    return maximum\n"
      ]
    },
    {
      "cell_type": "code",
      "execution_count": 8,
      "metadata": {
        "deletable": false,
        "nbgrader": {
          "cell_type": "code",
          "checksum": "0e8bac9171d91738f98f5bf636ae51cd",
          "grade": false,
          "grade_id": "cell-50d28580193fcaa8",
          "locked": false,
          "schema_version": 3,
          "solution": true
        },
        "colab": {
          "base_uri": "https://localhost:8080/"
        },
        "id": "VXkPVj7JrsgO",
        "outputId": "576a3ca0-add7-4dc7-e75d-02d261c2a313"
      },
      "outputs": [
        {
          "output_type": "execute_result",
          "data": {
            "text/plain": [
              "5"
            ]
          },
          "metadata": {},
          "execution_count": 8
        }
      ],
      "source": [
        "# This is a place where you can write additional tests to help you test\n",
        "# your code, or debugging code, if you need.  You can also leave it blank.\n",
        "\n",
        "# YOUR CODE HERE\n",
        "max_subtree_total(((-3, 4), 4))\n"
      ]
    },
    {
      "cell_type": "code",
      "execution_count": 9,
      "metadata": {
        "deletable": false,
        "editable": false,
        "nbgrader": {
          "cell_type": "code",
          "checksum": "d6cd156b79bc43545325369d4a535146",
          "grade": false,
          "grade_id": "cell-bcadc5b94be84807",
          "locked": true,
          "schema_version": 3,
          "solution": false
        },
        "colab": {
          "base_uri": "https://localhost:8080/"
        },
        "id": "7Oez2ibdrsgP",
        "outputId": "bf35414b-2c3f-4ac4-e781-502b05697d05"
      },
      "outputs": [
        {
          "output_type": "stream",
          "name": "stdout",
          "text": [
            "Success\n",
            "Success\n"
          ]
        }
      ],
      "source": [
        "### Some simple cases first.\n",
        "\n",
        "check_equal(max_subtree_total(3), 3)\n",
        "check_equal(max_subtree_total((4, 5)), 9)\n"
      ]
    },
    {
      "cell_type": "code",
      "execution_count": 10,
      "metadata": {
        "deletable": false,
        "editable": false,
        "nbgrader": {
          "cell_type": "code",
          "checksum": "5c6e5cc2b1d3a1ab547227a687118327",
          "grade": true,
          "grade_id": "cell-6f5736f79908ba09",
          "locked": true,
          "points": 10,
          "schema_version": 3,
          "solution": false
        },
        "colab": {
          "base_uri": "https://localhost:8080/"
        },
        "id": "EhsGsglTrsgQ",
        "outputId": "70cd1706-41cd-41fd-f61e-2a2f1db9feb6"
      },
      "outputs": [
        {
          "output_type": "stream",
          "name": "stdout",
          "text": [
            "Success\n",
            "Success\n",
            "Success\n",
            "Success\n"
          ]
        }
      ],
      "source": [
        "### 10 points.  More complex cases.\n",
        "\n",
        "check_equal(max_subtree_total((-3, 4)), 4)\n",
        "check_equal(max_subtree_total((-3, -4)), -3)\n",
        "check_equal(max_subtree_total(((-3, 5), (2, 1))), 5)\n",
        "check_equal(max_subtree_total((((4, 5), -3), (12, (3, 4)))), 25)\n",
        "\n"
      ]
    },
    {
      "cell_type": "markdown",
      "metadata": {
        "deletable": false,
        "editable": false,
        "nbgrader": {
          "cell_type": "markdown",
          "checksum": "89d1bd6d1a0b97265e35891331993716",
          "grade": false,
          "grade_id": "cell-b51e5a5d8d7cd723",
          "locked": true,
          "schema_version": 3,
          "solution": false
        },
        "id": "mfdG-c_KrsgR"
      },
      "source": [
        "## Question 3\n",
        "\n",
        "Consider a list, for instance, `[3, 4, 5, 3, 2, 5, 6, 4]`. \n",
        "A _subsequence_ or _sublist_ of a list is a list you obtain by removing zero or more elements from the original list.  For example, subsequences of the above list are: \n",
        "\n",
        "    []\n",
        "    [4, 5, 6]\n",
        "    [3, 4, 5, 5, 6]\n",
        "    [3, 5, 2]\n",
        "    \n",
        "A _nondecreasing_ subsequence is a sequence in which a value is not smaller than any of the previous ones.  In the examples above, the first three subsequences are nondecreasing; the last one is not, as the last `2` is smaller than `3` and `5`. \n",
        "\n",
        "Your task is to write a function `nondecsub(l)` which, given a list `l`, returns a list consisting of _all_ the nondecreasing subsequences of `l`.\n",
        "\n",
        "**Hint:** It is easier to write a function `nondecsub(l, threshold=None)`, and we have set up the problem for you in this way.  The idea is that `threshold` represents a threshold, below which you should not select elements from `l`.  \n",
        "\n",
        "Remember: your goal is to reduce the problem to one that is smaller, for example, one that involves a list that is shorter by one.  Look at how the code for permutations was done.  Reduce your problem to one that is smaller, and use the `threshold` parameter to ensure that the generated subsequences are nondecreasing. "
      ]
    },
    {
      "cell_type": "code",
      "execution_count": 11,
      "metadata": {
        "deletable": false,
        "nbgrader": {
          "cell_type": "code",
          "checksum": "ba4e754b1d1849bdb83dc324cd1f5e65",
          "grade": false,
          "grade_id": "cell-5c331dadc7c52afc",
          "locked": false,
          "schema_version": 3,
          "solution": true
        },
        "id": "WjUrSiCYrsgS"
      },
      "outputs": [],
      "source": [
        "'''\n",
        "#I have to figure out a way to return instead of print\n",
        "def keep_printing(new_lst):\n",
        "  while len(new_lst) > 1:   #keeps going until list is empty\n",
        "      new_lst.pop()\n",
        "      print(new_lst)\n",
        "\n",
        "def case_one(new_lst, remainder, threshold = None):\n",
        "  for y in remainder: #solves one case\n",
        "      if y > threshold:\n",
        "        threshold = y   #bc any new numbers added need to be bigger than y\n",
        "        new_lst.append(y)\n",
        "  print(new_lst)\n",
        "  keep_printing(new_lst)  #keeps printing\n",
        "  return new_lst\n",
        "  \n",
        "def nondecsub(lst, threshold=None):\n",
        "  for i, x in enumerate(lst):\n",
        "    new_lst = [x]\n",
        "    remainder = lst[i+1:]\n",
        "    threshold = x\n",
        "    #remove second from remainder\n",
        "    new_lst = case_one(new_lst, remainder, threshold)\n",
        "\n",
        "    # YOUR CODE HERE\n",
        "    #use yield\n",
        "    #consider if you want to leave in or take out the current number\n",
        "\n",
        "# This code helps in testing, as it transforms a list of lists into a set of tuples.\n",
        "def normalize(ll):\n",
        "    s = set()\n",
        "    for l in ll:\n",
        "        s.add(tuple(l))\n",
        "    return s\n",
        "\n",
        "def n(l):\n",
        "    return normalize(nondecsub(l, []))\n",
        "\n",
        "'''\n",
        "decreasing_values = []\n",
        "def nondecsub(lst, remainder) :\n",
        "    global decreasing_values\n",
        "    decreasing_values.append([])\n",
        "    if not lst:\n",
        "        if remainder:\n",
        "            decreasing_values.append(remainder)\n",
        "        return #we don't need to return anything since we are adding to the list decreasing_values\n",
        " \n",
        "    nondecsub(lst[1:], remainder[:])\n",
        " \n",
        "    if not remainder:\n",
        "        nondecsub(lst[1:], lst[:1])\n",
        "    elif lst[0] > remainder[-1] :\n",
        "        remainder.append(lst[0])\n",
        "        nondecsub(lst[1:], remainder[:])\n",
        "\n",
        "    \n",
        "def normalize(input):\n",
        "    #returning a set of tuples, rather than a list of lists\n",
        "    s = set()\n",
        "    for i in input:\n",
        "        s.add(tuple(i))\n",
        "    decreasing_values.clear()\n",
        "    return s\n",
        "\n",
        "def n(lst):\n",
        "    #print(nondecsub(l, []))\n",
        "    #for i in decreasing_values:\n",
        "    #  print(i)\n",
        "    nondecsub(lst, [])\n",
        "    return(normalize(decreasing_values))\n",
        "    #return normalize(nondecsub(l, []))\n"
      ]
    },
    {
      "cell_type": "code",
      "execution_count": 12,
      "metadata": {
        "deletable": false,
        "nbgrader": {
          "cell_type": "code",
          "checksum": "fff942d477bd0b466bbbc3975b12917c",
          "grade": false,
          "grade_id": "cell-a84921943d62dadc",
          "locked": false,
          "schema_version": 3,
          "solution": true
        },
        "colab": {
          "base_uri": "https://localhost:8080/"
        },
        "id": "HnBjpdfzrsgS",
        "outputId": "037dc396-3e37-4d11-a1b1-00eb2365ffad"
      },
      "outputs": [
        {
          "output_type": "execute_result",
          "data": {
            "text/plain": [
              "{(), (1,), (1, 2), (1, 3), (2,), (3,)}"
            ]
          },
          "metadata": {},
          "execution_count": 12
        }
      ],
      "source": [
        "# This is a place where you can write additional tests to help you test\n",
        "# your code, or debugging code, if you need.  You can also leave it blank.\n",
        "n([1,3,2])\n",
        "\n",
        "# YOUR CODE HERE\n"
      ]
    },
    {
      "cell_type": "code",
      "execution_count": 13,
      "metadata": {
        "deletable": false,
        "editable": false,
        "nbgrader": {
          "cell_type": "code",
          "checksum": "7a2bc557ac36b50518f04e802db11ff2",
          "grade": true,
          "grade_id": "cell-b86a7b2a438fa914",
          "locked": true,
          "points": 10,
          "schema_version": 3,
          "solution": false
        },
        "colab": {
          "base_uri": "https://localhost:8080/"
        },
        "id": "zqrt1tVBrsgT",
        "outputId": "4e4c8624-5537-4fef-f0b8-852e0cb3a096"
      },
      "outputs": [
        {
          "output_type": "stream",
          "name": "stdout",
          "text": [
            "Success\n",
            "Success\n",
            "Success\n",
            "Success\n"
          ]
        }
      ],
      "source": [
        "### 10 points: simple tests\n",
        "\n",
        "check_equal(n([4]), normalize([[], [4]]))\n",
        "\n",
        "check_equal(n([]), normalize([[]]))\n",
        "\n",
        "check_equal(n([3, 4]), normalize([\n",
        "    [], [3], [4], [3, 4]\n",
        "]))\n",
        "\n",
        "check_equal(n([4, 3]), normalize([\n",
        "    [], [3], [4]\n",
        "]))\n",
        "\n"
      ]
    },
    {
      "cell_type": "code",
      "execution_count": 14,
      "metadata": {
        "deletable": false,
        "editable": false,
        "nbgrader": {
          "cell_type": "code",
          "checksum": "5feb71539af99f179859314e6e9685bd",
          "grade": true,
          "grade_id": "cell-416c65a4401514ba",
          "locked": true,
          "points": 10,
          "schema_version": 3,
          "solution": false
        },
        "colab": {
          "base_uri": "https://localhost:8080/",
          "height": 462
        },
        "id": "ba0Abw6OrsgU",
        "outputId": "3eed1b24-9867-4119-ec3a-9019ea4cba84"
      },
      "outputs": [
        {
          "output_type": "stream",
          "name": "stdout",
          "text": [
            "Error:\n",
            "    Your answer was: {(-1, 4), (0, 4, 5), (-1, 0), (-1, 0, 3, 4), (-1,), (-1, 5), (0, 3), (3,), (-1, 3, 4), (5,), (-1, 4, 5), (-1, 0, 3, 5), (-1, 3, 5), (-1, 0, 3, 4, 5), (0, 4), (-1, 0, 3), (4, 5), (-1, 0, 4, 5), (-1, 0, 5), (0, 5), (-1, 0, 4), (3, 5), (0,), (0, 3, 4), (-1, 3), (0, 3, 5), (4,), (), (0, 3, 4, 5), (-1, 3, 4, 5), (3, 4, 5), (3, 4)}\n",
            "    Correct answer:  {(-1, 4), (0, 4, 5), (-1, 0), (-1, 0, 3, 3, 5), (-1, 0, 3, 4), (-1,), (-1, 5), (0, 3), (3, 3), (-1, 3, 3), (3,), (-1, 3, 4), (3, 3, 5), (-1, 4, 5), (-1, 0, 3, 4, 5), (-1, 0, 3, 5), (-1, 3, 3, 5), (-1, 3, 5), (0, 4), (5,), (-1, 0, 3, 3), (-1, 0, 3), (0, 3, 3), (0, 3, 3, 5), (-1, 0, 4, 5), (4, 5), (-1, 0, 5), (0, 5), (-1, 0, 4), (3, 5), (0,), (0, 3, 4), (-1, 3), (0, 3, 5), (4,), (), (0, 3, 4, 5), (-1, 3, 4, 5), (3, 4, 5), (3, 4)}\n"
          ]
        },
        {
          "output_type": "error",
          "ename": "AssertionError",
          "evalue": "ignored",
          "traceback": [
            "\u001b[0;31m---------------------------------------------------------------------------\u001b[0m",
            "\u001b[0;31mAssertionError\u001b[0m                            Traceback (most recent call last)",
            "\u001b[0;32m<ipython-input-14-9444cfd1ea9c>\u001b[0m in \u001b[0;36m<module>\u001b[0;34m()\u001b[0m\n\u001b[1;32m      8\u001b[0m     \u001b[0;34m(\u001b[0m\u001b[0;34m-\u001b[0m\u001b[0;36m1\u001b[0m\u001b[0;34m,\u001b[0m \u001b[0;36m0\u001b[0m\u001b[0;34m,\u001b[0m \u001b[0;36m3\u001b[0m\u001b[0;34m)\u001b[0m\u001b[0;34m,\u001b[0m \u001b[0;34m(\u001b[0m\u001b[0;36m0\u001b[0m\u001b[0;34m,\u001b[0m \u001b[0;36m3\u001b[0m\u001b[0;34m,\u001b[0m \u001b[0;36m3\u001b[0m\u001b[0;34m)\u001b[0m\u001b[0;34m,\u001b[0m \u001b[0;34m(\u001b[0m\u001b[0;36m0\u001b[0m\u001b[0;34m,\u001b[0m \u001b[0;36m3\u001b[0m\u001b[0;34m,\u001b[0m \u001b[0;36m3\u001b[0m\u001b[0;34m,\u001b[0m \u001b[0;36m5\u001b[0m\u001b[0;34m)\u001b[0m\u001b[0;34m,\u001b[0m \u001b[0;34m(\u001b[0m\u001b[0;34m-\u001b[0m\u001b[0;36m1\u001b[0m\u001b[0;34m,\u001b[0m \u001b[0;36m0\u001b[0m\u001b[0;34m,\u001b[0m \u001b[0;36m4\u001b[0m\u001b[0;34m,\u001b[0m \u001b[0;36m5\u001b[0m\u001b[0;34m)\u001b[0m\u001b[0;34m,\u001b[0m \u001b[0;34m(\u001b[0m\u001b[0;36m4\u001b[0m\u001b[0;34m,\u001b[0m \u001b[0;36m5\u001b[0m\u001b[0;34m)\u001b[0m\u001b[0;34m,\u001b[0m \u001b[0;34m(\u001b[0m\u001b[0;34m-\u001b[0m\u001b[0;36m1\u001b[0m\u001b[0;34m,\u001b[0m \u001b[0;36m0\u001b[0m\u001b[0;34m,\u001b[0m \u001b[0;36m5\u001b[0m\u001b[0;34m)\u001b[0m\u001b[0;34m,\u001b[0m\u001b[0;34m\u001b[0m\u001b[0;34m\u001b[0m\u001b[0m\n\u001b[1;32m      9\u001b[0m     \u001b[0;34m(\u001b[0m\u001b[0;36m0\u001b[0m\u001b[0;34m,\u001b[0m \u001b[0;36m5\u001b[0m\u001b[0;34m)\u001b[0m\u001b[0;34m,\u001b[0m \u001b[0;34m(\u001b[0m\u001b[0;34m-\u001b[0m\u001b[0;36m1\u001b[0m\u001b[0;34m,\u001b[0m \u001b[0;36m0\u001b[0m\u001b[0;34m,\u001b[0m \u001b[0;36m4\u001b[0m\u001b[0;34m)\u001b[0m\u001b[0;34m,\u001b[0m \u001b[0;34m(\u001b[0m\u001b[0;36m3\u001b[0m\u001b[0;34m,\u001b[0m \u001b[0;36m5\u001b[0m\u001b[0;34m)\u001b[0m\u001b[0;34m,\u001b[0m \u001b[0;34m(\u001b[0m\u001b[0;36m0\u001b[0m\u001b[0;34m,\u001b[0m\u001b[0;34m)\u001b[0m\u001b[0;34m,\u001b[0m \u001b[0;34m(\u001b[0m\u001b[0;36m0\u001b[0m\u001b[0;34m,\u001b[0m \u001b[0;36m3\u001b[0m\u001b[0;34m,\u001b[0m \u001b[0;36m4\u001b[0m\u001b[0;34m)\u001b[0m\u001b[0;34m,\u001b[0m \u001b[0;34m(\u001b[0m\u001b[0;34m-\u001b[0m\u001b[0;36m1\u001b[0m\u001b[0;34m,\u001b[0m \u001b[0;36m3\u001b[0m\u001b[0;34m)\u001b[0m\u001b[0;34m,\u001b[0m \u001b[0;34m(\u001b[0m\u001b[0;36m0\u001b[0m\u001b[0;34m,\u001b[0m \u001b[0;36m3\u001b[0m\u001b[0;34m,\u001b[0m \u001b[0;36m5\u001b[0m\u001b[0;34m)\u001b[0m\u001b[0;34m,\u001b[0m \u001b[0;34m(\u001b[0m\u001b[0;36m4\u001b[0m\u001b[0;34m,\u001b[0m\u001b[0;34m)\u001b[0m\u001b[0;34m,\u001b[0m\u001b[0;34m\u001b[0m\u001b[0;34m\u001b[0m\u001b[0m\n\u001b[0;32m---> 10\u001b[0;31m     \u001b[0;34m(\u001b[0m\u001b[0;34m)\u001b[0m\u001b[0;34m,\u001b[0m \u001b[0;34m(\u001b[0m\u001b[0;36m0\u001b[0m\u001b[0;34m,\u001b[0m \u001b[0;36m3\u001b[0m\u001b[0;34m,\u001b[0m \u001b[0;36m4\u001b[0m\u001b[0;34m,\u001b[0m \u001b[0;36m5\u001b[0m\u001b[0;34m)\u001b[0m\u001b[0;34m,\u001b[0m \u001b[0;34m(\u001b[0m\u001b[0;34m-\u001b[0m\u001b[0;36m1\u001b[0m\u001b[0;34m,\u001b[0m \u001b[0;36m3\u001b[0m\u001b[0;34m,\u001b[0m \u001b[0;36m4\u001b[0m\u001b[0;34m,\u001b[0m \u001b[0;36m5\u001b[0m\u001b[0;34m)\u001b[0m\u001b[0;34m,\u001b[0m \u001b[0;34m(\u001b[0m\u001b[0;34m-\u001b[0m\u001b[0;36m1\u001b[0m\u001b[0;34m,\u001b[0m \u001b[0;36m4\u001b[0m\u001b[0;34m)\u001b[0m\u001b[0;34m,\u001b[0m \u001b[0;34m(\u001b[0m\u001b[0;36m3\u001b[0m\u001b[0;34m,\u001b[0m \u001b[0;36m4\u001b[0m\u001b[0;34m)\u001b[0m\u001b[0;34m\u001b[0m\u001b[0;34m\u001b[0m\u001b[0m\n\u001b[0m\u001b[1;32m     11\u001b[0m ]))\n\u001b[1;32m     12\u001b[0m \u001b[0;34m\u001b[0m\u001b[0m\n",
            "\u001b[0;32m<ipython-input-2-a5d048886e6e>\u001b[0m in \u001b[0;36mcheck_equal\u001b[0;34m(x, y, msg)\u001b[0m\n\u001b[1;32m     14\u001b[0m         \u001b[0mprint\u001b[0m\u001b[0;34m(\u001b[0m\u001b[0;34m\"    Your answer was:\"\u001b[0m\u001b[0;34m,\u001b[0m \u001b[0mx\u001b[0m\u001b[0;34m)\u001b[0m\u001b[0;34m\u001b[0m\u001b[0;34m\u001b[0m\u001b[0m\n\u001b[1;32m     15\u001b[0m         \u001b[0mprint\u001b[0m\u001b[0;34m(\u001b[0m\u001b[0;34m\"    Correct answer: \"\u001b[0m\u001b[0;34m,\u001b[0m \u001b[0my\u001b[0m\u001b[0;34m)\u001b[0m\u001b[0;34m\u001b[0m\u001b[0;34m\u001b[0m\u001b[0m\n\u001b[0;32m---> 16\u001b[0;31m     \u001b[0;32massert\u001b[0m \u001b[0mx\u001b[0m \u001b[0;34m==\u001b[0m \u001b[0my\u001b[0m\u001b[0;34m,\u001b[0m \u001b[0;34m\"%r and %r are different\"\u001b[0m \u001b[0;34m%\u001b[0m \u001b[0;34m(\u001b[0m\u001b[0mx\u001b[0m\u001b[0;34m,\u001b[0m \u001b[0my\u001b[0m\u001b[0;34m)\u001b[0m\u001b[0;34m\u001b[0m\u001b[0;34m\u001b[0m\u001b[0m\n\u001b[0m",
            "\u001b[0;31mAssertionError\u001b[0m: {(-1, 4), (0, 4, 5), (-1, 0), (-1, 0, 3, 4), (-1,), (-1, 5), (0, 3), (3,), (-1, 3, 4), (5,), (-1, 4, 5), (-1, 0, 3, 5), (-1, 3, 5), (-1, 0, 3, 4, 5), (0, 4), (-1, 0, 3), (4, 5), (-1, 0, 4, 5), (-1, 0, 5), (0, 5), (-1, 0, 4), (3, 5), (0,), (0, 3, 4), (-1, 3), (0, 3, 5), (4,), (), (0, 3, 4, 5), (-1, 3, 4, 5), (3, 4, 5), (3, 4)} and {(-1, 4), (0, 4, 5), (-1, 0), (-1, 0, 3, 3, 5), (-1, 0, 3, 4), (-1,), (-1, 5), (0, 3), (3, 3), (-1, 3, 3), (3,), (-1, 3, 4), (3, 3, 5), (-1, 4, 5), (-1, 0, 3, 4, 5), (-1, 0, 3, 5), (-1, 3, 3, 5), (-1, 3, 5), (0, 4), (5,), (-1, 0, 3, 3), (-1, 0, 3), (0, 3, 3), (0, 3, 3, 5), (-1, 0, 4, 5), (4, 5), (-1, 0, 5), (0, 5), (-1, 0, 4), (3, 5), (0,), (0, 3, 4), (-1, 3), (0, 3, 5), (4,), (), (0, 3, 4, 5), (-1, 3, 4, 5), (3, 4, 5), (3, 4)} are different"
          ]
        }
      ],
      "source": [
        "### 10 points: more complicated tests\n",
        "\n",
        "check_equal(n([-1, 0, 3, 4, 3, 5]), normalize([\n",
        "    (3, 4, 5), (0, 4, 5), (-1, 0), (-1, 0, 3, 3, 5), (-1, 0, 3, 4),\n",
        "    (-1,), (-1, 5), (0, 3), (3, 3), (-1, 3, 3), (3,), (-1, 3, 4),\n",
        "    (3, 3, 5), (-1, 4, 5), (-1, 0, 3, 4, 5), (-1, 0, 3, 5),\n",
        "    (-1, 3, 3, 5), (-1, 3, 5), (0, 4), (5,), (-1, 0, 3, 3),\n",
        "    (-1, 0, 3), (0, 3, 3), (0, 3, 3, 5), (-1, 0, 4, 5), (4, 5), (-1, 0, 5),\n",
        "    (0, 5), (-1, 0, 4), (3, 5), (0,), (0, 3, 4), (-1, 3), (0, 3, 5), (4,),\n",
        "    (), (0, 3, 4, 5), (-1, 3, 4, 5), (-1, 4), (3, 4)\n",
        "]))\n",
        "\n"
      ]
    }
  ],
  "metadata": {
    "kernelspec": {
      "display_name": "Python 3",
      "language": "python",
      "name": "python3"
    },
    "language_info": {
      "codemirror_mode": {
        "name": "ipython",
        "version": 3
      },
      "file_extension": ".py",
      "mimetype": "text/x-python",
      "name": "python",
      "nbconvert_exporter": "python",
      "pygments_lexer": "ipython3",
      "version": "3.8.10"
    },
    "test_info": {
      "id": "c53714e814aab272365f53859a47046c2bfa436c"
    },
    "colab": {
      "name": "Homework_3_test.ipynb",
      "provenance": []
    }
  },
  "nbformat": 4,
  "nbformat_minor": 0
}