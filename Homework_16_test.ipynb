{
  "cells": [
    {
      "cell_type": "markdown",
      "metadata": {
        "id": "rgztIsesipsq"
      },
      "source": [
        "Before you turn this problem in, make sure everything runs as expected. First, **restart the kernel** (in the menubar, select Kernel$\\rightarrow$Restart) and then **run all cells** (in the menubar, select Cell$\\rightarrow$Run All).\n",
        "\n",
        "Make sure you fill in any place that says `YOUR CODE HERE` or \"YOUR ANSWER HERE\", as well as your name and collaborators below:"
      ]
    },
    {
      "cell_type": "code",
      "execution_count": 1,
      "metadata": {
        "id": "08lIP_iUipss"
      },
      "outputs": [],
      "source": [
        "NAME = \"\"\n",
        "COLLABORATORS = \"\""
      ]
    },
    {
      "cell_type": "markdown",
      "metadata": {
        "id": "iNgqUyREipst"
      },
      "source": [
        "---"
      ]
    },
    {
      "cell_type": "markdown",
      "metadata": {
        "deletable": false,
        "editable": false,
        "nbgrader": {
          "cell_type": "markdown",
          "checksum": "e2907f712ab33c31f4a79324b28435a8",
          "grade": false,
          "grade_id": "cell-17cca2e11745caa7",
          "locked": true,
          "schema_version": 3,
          "solution": false
        },
        "id": "Mb9umKYfipst"
      },
      "source": [
        "# CSE 30 Spring 2022 - Homework 16\n",
        "\n",
        "\n",
        "### Instructions\n",
        "\n",
        "Please disregard the YOUR NAME and COLLABORATORS above.  They are put there atomatically by the grading tool.\n",
        "You can find instructions on how to work on a homework on Canvas.  Here is a short summary: \n",
        "\n",
        "### Submitting your work\n",
        "\n",
        "To submit your work: \n",
        "\n",
        "* First, click on \"Runtime > Restart and run all\", and check that you get no errors.  This enables you to catch any error you might have introduced, and not noticed, due to your running cells out of order. \n",
        "* Second, download the notebook in .ipynb format (File > Download .ipynb) and upload the .ipynb file to [this form](https://docs.google.com/forms/d/e/1FAIpQLSev9s_Vdz3Q_cIw6nzKYqksikreeB4JixtjemxTZQOvwnLRUw/viewform?usp=sf_link).  This homework is due at **11:59pm on Thursday, 02 June 2022**.\n",
        "\n",
        "You can submit multiple times; the last submission before the deadline is the one that counts.\n",
        "\n",
        "### Homework format\n",
        "\n",
        "For each question in this notebook, there is: \n",
        "\n",
        "* A text description of the problem. \n",
        "* One or more places where you have to insert your solution.  You need to complete every place marked: \n",
        "\n",
        "    `# YOUR CODE HERE`\n",
        "    \n",
        "    and you should not modify any other place. \n",
        "* One or more test cells.  Each cell is worth some number of points, marked at the top.  You should not modify these tests cells.  The tests pass if no error is printed out: when there is a statement that says, for instance: \n",
        "\n",
        "    `assert x == 2`\n",
        "    \n",
        "    then the test passes if `x` has value 2, and fails otherwise.  You can insert a `print(x)` (for this case!) somewhere if you want to debug your work; it is up to you.  \n",
        "    \n",
        "### Notes:\n",
        "\n",
        "* Your code will be tested both according to the tests you can see (the `assert` statements you can see), _and_ additional tests.  This prevents you from hard-coding the answer to the particular questions posed.  Your code should solve the _general_ intended case, not hard-code the particular answer for the values used in the tests. \n",
        "\n",
        "* **Please do not delete or add cells!** The test is autograded, and if you modify the test by adding or deleting cells, even if you re-add cells you delete, you may not receive credit. \n",
        "\n",
        "* **Please do not import modules that are not part of the [standard library](https://docs.python.org/3/library/index.html).** You do not need any, and they will likely not available in the grading environment, leading your code to fail. \n",
        "\n",
        "* **If you are inactive too long, your notebook might get disconnected from the back-end.** Your work is never lost, but you have to re-run all the cells before you continue. \n",
        "\n",
        "* You can write out print statements in your code, to help you test/debug it. But remember: the code is graded on the basis of what it outputs or returns, not on the basis of what it prints.\n",
        "\n",
        "* **TAs and tutors have access to this notebook,** so if you let them know you need their help, they can look at your work and give you advice. \n",
        "\n",
        "### Grading\n",
        "\n",
        "Each cell where there are tests is worth a certain number of points.  You get the points allocated to a cell only if you pass _all_ the tests in the cell. \n",
        "\n",
        "The tests in a cell include both the tests you can see, and other, similar, tests that are used for grading only.  Therefore, you cannot hard-code the solutions: you really have to solve the essence of the problem, to receive the points in a cell. \n",
        "\n",
        "### Code of Conduct\n",
        "\n",
        "* Work on the test yourself, alone. \n",
        "* You can search documentation on the web, on sites such as the Python documentation sites, Stackoverflow, and similar, and you can use the results. \n",
        "* You cannot share your work with others or solicit their help.\n"
      ]
    },
    {
      "cell_type": "markdown",
      "metadata": {
        "deletable": false,
        "editable": false,
        "nbgrader": {
          "cell_type": "markdown",
          "checksum": "6d8c8575c6217da92c37915be093f7f5",
          "grade": false,
          "grade_id": "cell-931a8359596c5a1b",
          "locked": true,
          "schema_version": 3,
          "solution": false
        },
        "id": "seTkohcJipsu"
      },
      "source": [
        "## SAT \n",
        "\n",
        "Let $p_1, p_2, \\ldots$ be propositional variables. \n",
        "A SAT problem, represented in [conjunctive normal form](https://en.wikipedia.org/wiki/Conjunctive_normal_form), consists in a conjunction of disjunctions of propositional variables and their complements, such as\n",
        "\n",
        "$$\n",
        "(p_1 \\vee \\bar{p}_2 \\vee p_3) \\wedge (p_2 \\vee p_5) \\; .\n",
        "$$\n",
        "\n",
        "We call each conjuct a [_clause_](https://en.wikipedia.org/wiki/Clause_(logic);\n",
        "in the above example, we have two clauses, $c_1 = p_1 \\vee \\bar{p}_2 \\vee p_3$ and \n",
        "$c_2 = p_2 \\vee p_5$. \n",
        "The disjuncts in a clause are called [_literals_](https://en.wikipedia.org/wiki/Literal_(mathematical_logic): \n",
        "for example, the first clause $c_1 = p_1 \\vee \\bar{p}_2 \\vee p_3$ contains the literals $p_1$, $\\bar{p}_2$, and $p_3$. \n",
        "\n",
        "The satisfiability question is: can we find a truth assignment to the variables that makes the expression true?\n",
        "In the above case, the answer is yes: we can take: \n",
        "\n",
        "$$\n",
        "p_1 = True, \\; p_5 = True\n",
        "$$\n",
        "\n",
        "and any value for $p_2, p_3$. "
      ]
    },
    {
      "cell_type": "markdown",
      "metadata": {
        "deletable": false,
        "editable": false,
        "nbgrader": {
          "cell_type": "markdown",
          "checksum": "0364ebd4b13fe9d2a15f6a1ac0fbad75",
          "grade": false,
          "grade_id": "cell-f0ba096ffe4fbd7b",
          "locked": true,
          "schema_version": 3,
          "solution": false
        },
        "id": "U0Rqh2L6ipsv"
      },
      "source": [
        "### NP completeness of SAT and Sudoku\n",
        "\n",
        "_This is optional material that can be skipped if desired._\n",
        "\n",
        "In general, determining whether an expression for SAT (in conjunctive normal form) is satisfiable is an [NP-complete](https://en.wikipedia.org/wiki/NP-completeness) problem, which means, intuitively, two things: \n",
        "\n",
        "* **If you guess a solution, you can check it in polynomial time.** The problem being an NP problem means: if we could guess a solution (a truth assignment to the $m$ variables), we would be able to check that the solution is valid in time that is polynomial in $n$, that is, that is bounded by a polynomial of $n$. In general, NP is the set of problems that can be solved in nondeterministic polynomial time, and thus, the set of problems that can be solved by making a lucky guess, and checking the guess in polynomial time. \n",
        "\n",
        "* **The problem is as hard as any other NP problem** (or: the problem is NP-complete). Precisely, if we have another NP problem, we can reduce it in polynomial time to our problem, showing that if we could solve our problem in (deterministic) polynomial time, we could solve all other NP problems in polynomial time too.  Unfortunately, it is not known whether NP complete can be solved in deterministic polynomial time. \n",
        "\n",
        "Thus, NP-complete problems are problems such that, if you chance on the solution, you can check it efficiently, but the only way currently known for solving them consists in searching for a solution, perhaps with the help of heuristics. \n",
        "You will learn about NP completeness in courses on computational complexity; a marvelous book on the topic, which every competent computer scientist should read, is the one by [Garey and Johnson](https://www.amazon.com/Computers-Intractability-NP-Completeness-Mathematical-Sciences/dp/0716710455).\n",
        "\n",
        "SAT is NP-complete; in fact, it is the prototypical NP-complete problem.  As we unfortunately do not know how to do lucky guesses, solving it involves search. \n",
        "\n",
        "Sudoku is actually not NP complete as defined: in fact, it can be solved _in constant time!_ \n",
        "For our Sudoku problems, the input size $n = 9^2 = 81$, constant -- and this constant-sized problem can be solved in constant time just by searching through the fixed number of $9^{81}$ solutions!  But $9^{81}$ is a large number, so our search algorithm is much better than the constant-time brute-force approach.\n",
        "It has been shown that [a generalized version of Sudoku with unbounded input size is NP-complete](http://www-imai.is.s.u-tokyo.ac.jp/~yato/data2/SIGAL87-2.pdf) (the author has not checked the proof). \n"
      ]
    },
    {
      "cell_type": "markdown",
      "metadata": {
        "deletable": false,
        "editable": false,
        "nbgrader": {
          "cell_type": "markdown",
          "checksum": "f462936a1a6507e92377163805d97104",
          "grade": false,
          "grade_id": "cell-a05355a63ccdfaf9",
          "locked": true,
          "schema_version": 3,
          "solution": false
        },
        "id": "tIPOM1bWipsv"
      },
      "source": [
        "## SAT representation\n",
        "\n",
        "To represent an instance of SAT, we represent literals, clauses, and the overall expression, as follows.\n",
        "\n",
        "**Literals.** We represent the literal $p_k$ via the positive integer $k$, and the literal $\\bar{p}_k$ via the negative integer $-k$. \n",
        "\n",
        "**Clauses.** We represent a clause via the set of integers representing the clause literals.  \n",
        "For instance, we represent the clause $p_1 \\vee \\bar{p}_3 \\vee p_4$ via the set $\\{1, -3, 4\\}$. \n",
        "\n",
        "**SAT problem.**  We represent a SAT problem (again, in conjunctive normal form) via the set consisting in the representation of its clauses. \n",
        "For instance, the problem \n",
        "$$\n",
        "(p_1 \\vee \\bar{p}_2 \\vee p_3) \\wedge (p_2 \\vee p_5)\n",
        "$$\n",
        "is represented by the set of sets:\n",
        "$$\n",
        "\\{ \\{1, -2, 3\\}, \\{2, 5\\} \\} \\; .\n",
        "$$"
      ]
    },
    {
      "cell_type": "markdown",
      "metadata": {
        "deletable": false,
        "editable": false,
        "nbgrader": {
          "cell_type": "markdown",
          "checksum": "6dfa20dc15db6142da1ddd5b2a1081fc",
          "grade": false,
          "grade_id": "cell-ea8cceef076ebf84",
          "locked": true,
          "schema_version": 3,
          "solution": false
        },
        "id": "NGs1LlK0ipsw"
      },
      "source": [
        "There are various operations that we need to do on clauses, and on the overall SAT problem, to solve it.  Thus, we encapsulate both clauses, and the SAT problem, in python classes, so we can associate the operations along with the representations."
      ]
    },
    {
      "cell_type": "markdown",
      "metadata": {
        "deletable": false,
        "editable": false,
        "nbgrader": {
          "cell_type": "markdown",
          "checksum": "13cb702ffe70827b6d387043171cfd17",
          "grade": false,
          "grade_id": "cell-976011dde2cb7b8e",
          "locked": true,
          "schema_version": 3,
          "solution": false
        },
        "id": "lbC6QNE0ipsw"
      },
      "source": [
        "### Clauses"
      ]
    },
    {
      "cell_type": "markdown",
      "metadata": {
        "deletable": false,
        "editable": false,
        "nbgrader": {
          "cell_type": "markdown",
          "checksum": "72e1d6b4510ba2c9b7cee6c38624108b",
          "grade": false,
          "grade_id": "cell-67051c794ce1b41",
          "locked": true,
          "schema_version": 3,
          "solution": false
        },
        "id": "kH2rOn08ipsw"
      },
      "source": [
        "We first define an auxiliary function, which tells us whether a set contains both an integer and its negative.  This will be used, for instance, to detect whether a clause contains both a literal and its complement."
      ]
    },
    {
      "cell_type": "code",
      "execution_count": 2,
      "metadata": {
        "deletable": false,
        "editable": false,
        "nbgrader": {
          "cell_type": "code",
          "checksum": "65d474974ffda25dc7323cc5a9ed434c",
          "grade": false,
          "grade_id": "cell-e5368393ed56f85a",
          "locked": true,
          "schema_version": 3,
          "solution": false
        },
        "id": "dlN4BXPhipsx"
      },
      "outputs": [],
      "source": [
        "def has_pos_and_neg(l):\n",
        "    return len(set(l)) > len({abs(x) for x in l})\n",
        "    #literal is positive number\n",
        "    #complement is negative number\n"
      ]
    },
    {
      "cell_type": "markdown",
      "metadata": {
        "deletable": false,
        "editable": false,
        "nbgrader": {
          "cell_type": "markdown",
          "checksum": "ece73af3296593762a77998734ba8c62",
          "grade": false,
          "grade_id": "cell-eaea0d892ffb11b4",
          "locked": true,
          "schema_version": 3,
          "solution": false
        },
        "id": "PNQNtPDvipsx"
      },
      "source": [
        "This is the class representing a clause.   Write it in such a way that: \n",
        "\n",
        "* The list of literals is stored as a frozenset `self.literals`, so that we automatically remove duplicate literals, and so that we can easily define clause equality.\n",
        "* It can be initialized either with a list of integers, or with a clause.  In the first case, the integers are the literals.  In the second case, we create a copy of the original clause. \n",
        "* A clause is true iff it contains both a literal and its complement. \n",
        "* A clause is false iff it is empty."
      ]
    },
    {
      "cell_type": "code",
      "execution_count": 3,
      "metadata": {
        "deletable": false,
        "nbgrader": {
          "cell_type": "code",
          "checksum": "e49411de8d2c68c37d7701488dadc39d",
          "grade": false,
          "grade_id": "cell-2c51ae1fb148fc05",
          "locked": false,
          "schema_version": 3,
          "solution": true
        },
        "id": "VGEoj75pipsx"
      },
      "outputs": [],
      "source": [
        "### Defining Clauses\n",
        "\n",
        "class Clause(object):\n",
        "\n",
        "    def __init__(self, clause):\n",
        "        \"\"\"Initializes a clause.  Here, the input clause is either a list or set\n",
        "        of integers, or is an instance of Clause; in the latter case, a shallow\n",
        "        copy is made, so that one can modify this clause without modifying the\n",
        "        original clause.\n",
        "        Store the list of literals as a frozenset.\"\"\"\n",
        "        # YOUR CODE HERE\n",
        "        #initialized with either a list of literals or a clause (set of literals)\n",
        "        if isinstance(clause, Clause):\n",
        "          self.literals = clause.literals\n",
        "        else:\n",
        "          self.literals = frozenset(clause)\n",
        "        #print(\"self.literals is:\", self.literals)\n",
        "\n",
        "    def __repr__(self):\n",
        "        return repr(self.literals)\n",
        "\n",
        "    def __eq__(self, other):\n",
        "        return self.literals == other.literals\n",
        "\n",
        "    def __hash__(self):\n",
        "        \"\"\"This will be used to be able to have sets of clauses,\n",
        "        with clause equality defined on the equality of their literal sets.\"\"\"\n",
        "        return hash(self.literals)\n",
        "\n",
        "    def __len__(self):\n",
        "        return len(self.literals)\n",
        "\n",
        "    @property\n",
        "    def istrue(self):\n",
        "        \"\"\"A clause is true if it contains both a predicate and its complement.\"\"\"\n",
        "        # YOUR CODE HERE\n",
        "        for x in self.literals:\n",
        "          if -(x) in self.literals:\n",
        "            return True\n",
        "        return False\n",
        "\n",
        "    @property\n",
        "    def isfalse(self):\n",
        "        \"\"\"A clause is false if and only if it is empty.\"\"\"\n",
        "        # YOUR CODE HERE\n",
        "        if len(self.literals) == 0:\n",
        "          return True\n",
        "        return False\n"
      ]
    },
    {
      "cell_type": "code",
      "execution_count": 4,
      "metadata": {
        "deletable": false,
        "editable": false,
        "nbgrader": {
          "cell_type": "code",
          "checksum": "4cef94cf71a1649bc64d008636ffc53c",
          "grade": false,
          "grade_id": "cell-e6f43528656895e9",
          "locked": true,
          "schema_version": 3,
          "solution": false
        },
        "id": "5hfY6F7Xipsx"
      },
      "outputs": [],
      "source": [
        "### Here you can test your code.\n",
        "c = Clause([1,2,-9, -9, 9])\n",
        "\n",
        "d = Clause({1,4,-4})\n",
        "\n",
        "e = Clause(c)\n",
        "\n"
      ]
    },
    {
      "cell_type": "code",
      "execution_count": 5,
      "metadata": {
        "deletable": false,
        "editable": false,
        "nbgrader": {
          "cell_type": "code",
          "checksum": "43f60e4eb6d71595705f5a95b5b83060",
          "grade": false,
          "grade_id": "cell-9948d74137cc7605",
          "locked": true,
          "schema_version": 3,
          "solution": false
        },
        "id": "sac70w9sipsx"
      },
      "outputs": [],
      "source": [
        "try:\n",
        "    from nose.tools import assert_equal, assert_almost_equal\n",
        "    from nose.tools import assert_true, assert_false\n",
        "    from nose.tools import assert_not_equal\n",
        "except:\n",
        "    !pip install nose\n",
        "    from nose.tools import assert_equal, assert_almost_equal\n",
        "    from nose.tools import assert_true, assert_false\n",
        "    from nose.tools import assert_not_equal\n"
      ]
    },
    {
      "cell_type": "code",
      "execution_count": 6,
      "metadata": {
        "deletable": false,
        "editable": false,
        "nbgrader": {
          "cell_type": "code",
          "checksum": "c9b1113708545dadf5640a7cc8558974",
          "grade": false,
          "grade_id": "cell-5bde3802e1372e7b",
          "locked": true,
          "schema_version": 3,
          "solution": false
        },
        "id": "pjb9COnZipsy"
      },
      "outputs": [],
      "source": [
        "# 5 points: Tests for Clause.\n",
        "\n",
        "c = Clause([2, -3, 4])\n",
        "d = Clause([-3, 2, 4])\n",
        "e = Clause(c)\n",
        "assert_equal(c, d)\n",
        "assert_equal(c, e)\n"
      ]
    },
    {
      "cell_type": "code",
      "execution_count": 7,
      "metadata": {
        "deletable": false,
        "editable": false,
        "nbgrader": {
          "cell_type": "code",
          "checksum": "18277f484f4d4356d0c86525a474352d",
          "grade": false,
          "grade_id": "cell-37c975a0c55c815e",
          "locked": true,
          "schema_version": 3,
          "solution": false
        },
        "id": "Pkrmw8bJipsy"
      },
      "outputs": [],
      "source": [
        "# 5 points: More tests for clause\n",
        "\n",
        "c = Clause([2, 3, 5])\n",
        "assert_false(c.istrue)\n",
        "assert_false(c.isfalse)\n",
        "\n",
        "c = Clause([-2, 5, 2])\n",
        "assert_true(c.istrue)\n",
        "assert_false(c.isfalse)\n",
        "\n",
        "c = Clause([])\n",
        "assert_false(c.istrue)\n",
        "assert_true(c.isfalse)\n"
      ]
    },
    {
      "cell_type": "code",
      "execution_count": 8,
      "metadata": {
        "deletable": false,
        "editable": false,
        "nbgrader": {
          "cell_type": "code",
          "checksum": "9798a19b94b46f8b67cd17e67141f9a8",
          "grade": true,
          "grade_id": "cell-652c1064fcc3ea5b",
          "locked": true,
          "points": 10,
          "schema_version": 3,
          "solution": false
        },
        "id": "qkyes31Zipsy"
      },
      "outputs": [],
      "source": [
        "# 5 points: Tests for clause cloning.\n",
        "\n",
        "c = Clause([2, -4, 3])\n",
        "d = Clause(c)\n",
        "assert_equal(c, d)\n",
        "\n"
      ]
    },
    {
      "cell_type": "markdown",
      "metadata": {
        "deletable": false,
        "editable": false,
        "nbgrader": {
          "cell_type": "markdown",
          "checksum": "bb0dd45379a6e385d649479827ab025b",
          "grade": false,
          "grade_id": "cell-461b42f342f5f7df",
          "locked": true,
          "schema_version": 3,
          "solution": false
        },
        "id": "EorPFtw0ipsy"
      },
      "source": [
        "### Truth assignments\n",
        "\n",
        "We are seeking a truth assignment for the propositional variables that makes the expression true, and so, that makes each clause true.  \n",
        "\n",
        "We represent the truth assignment that assigns True to $p_k$ via the integer $k$, and the truth assignment that assigns False to $p_k$ via $-k$.  Thus, if you have a (positive or negative) literal $i$, the truth assignment $i$ will make it true. \n",
        "\n",
        "We represent truth assignments to multiple variables simply as the set of assignments to individual variables. \n",
        "For example, the truth assignment that assigns True to $p_1$ and False to $p_2$ will be represented via the set $\\{1, -2\\}$. \n"
      ]
    },
    {
      "cell_type": "markdown",
      "metadata": {
        "deletable": false,
        "editable": false,
        "nbgrader": {
          "cell_type": "markdown",
          "checksum": "3389b091fd7fbfc3f678ecbf427fda58",
          "grade": false,
          "grade_id": "cell-ad7897a43a3d5af6",
          "locked": true,
          "schema_version": 3,
          "solution": false
        },
        "id": "0xBtkQT1ipsy"
      },
      "source": [
        "### Truth assignments and clause simplification\n",
        "\n",
        "To solve a SAT instance, we need to search for a truth assignment to its propositional variables that will make all the clauses true. \n",
        "We will search for such a truth assignment by trying to build it one variable at a time.  So a basic operation on a clause will be: \n",
        "\n",
        "> Given a clause, and a truth assignment for one variable, compute the result on the clause. \n",
        "\n",
        "What is the result on the clause?  Consider a clause  with representation $c$ (thus, $c$ is a set of integers) and a truth assignment $i$ (recall that $i$ can be positive or negative, depending on whether it assigns True or False to $p_i$).  There are three cases:\n",
        "\n",
        "* If $i \\in c$, then the $i$ literal of $c$ is true, and so is the whole clause. We return True to signify it. \n",
        "* If $-i \\in c$, then the $-i$ literal of $c$ is false, and it cannot help make the clause true.  We return the clause $c \\setminus \\{-i\\}$, which corresponds to the remaining ways of making the clause true under assignment $i$. \n",
        "* If neither $i$ nor $-i$ is in $c$, then we return $c$ itself, as $c$ is not affected by the truth assignment $i$. \n",
        "\n",
        "Based on the above discussion, implement a _simplify_ method for a Clause that, given a truth assignment, returns a simplified clause or True."
      ]
    },
    {
      "cell_type": "code",
      "execution_count": 9,
      "metadata": {
        "deletable": false,
        "nbgrader": {
          "cell_type": "code",
          "checksum": "07b02198aaba136ce6efe8e95b41497d",
          "grade": false,
          "grade_id": "cell-95845c534c92158f",
          "locked": false,
          "schema_version": 3,
          "solution": true
        },
        "id": "321v-3vqipsy"
      },
      "outputs": [],
      "source": [
        "### Exercise: define simplify\n",
        "#if clause is True, i is pos\n",
        "#if clause is False, i is neg\n",
        "\n",
        "def clause_simplify(self, i):\n",
        "    \"\"\"Computes the result simplify the clause according to the\n",
        "    truth assignment i.\"\"\"\n",
        "    # YOUR CODE HERE\n",
        "    if i in self.literals:\n",
        "      return True\n",
        "    if -i in self.literals:\n",
        "      self.literals = self.literals - {-i}      #if -i is in self, they want us to return self without -i\n",
        "      return self   #error was happening becasue I had to return self not self.literals\n",
        "                    #but what returns when I return self. What is self. \n",
        "    return self\n",
        "\n",
        "Clause.simplify = clause_simplify\n",
        "\n",
        "c = Clause([1, 2, -3, 4])\n",
        "assert_equal((c.simplify(-4)), (Clause([1, 2, -3])))"
      ]
    },
    {
      "cell_type": "code",
      "execution_count": 10,
      "metadata": {
        "deletable": false,
        "editable": false,
        "nbgrader": {
          "cell_type": "code",
          "checksum": "c156c9ed01ce287d5811c41afb4a7067",
          "grade": false,
          "grade_id": "cell-5ce781ead098ec33",
          "locked": true,
          "schema_version": 3,
          "solution": false
        },
        "id": "ssGQ9GD6ipsy"
      },
      "outputs": [],
      "source": [
        "### Here you can test your code.\n"
      ]
    },
    {
      "cell_type": "markdown",
      "metadata": {
        "deletable": false,
        "editable": false,
        "nbgrader": {
          "cell_type": "markdown",
          "checksum": "ad51ea62e26ebd25483bb57d56d28e5f",
          "grade": false,
          "grade_id": "cell-6c581db85d2d4630",
          "locked": true,
          "schema_version": 3,
          "solution": false
        },
        "id": "b-bv-DJAipsz"
      },
      "source": [
        "Here are some tests to help you verify that your implementation works."
      ]
    },
    {
      "cell_type": "code",
      "execution_count": 11,
      "metadata": {
        "deletable": false,
        "editable": false,
        "nbgrader": {
          "cell_type": "code",
          "checksum": "ab59d4bdc7ad259f0b13b38b52958ed8",
          "grade": false,
          "grade_id": "cell-cc56af3119203574",
          "locked": true,
          "schema_version": 3,
          "solution": false
        },
        "id": "gWmUySP2ipsz"
      },
      "outputs": [],
      "source": [
        "# 5 points.\n",
        "\n",
        "# Let's test our simplification function.  Here is a clause.\n",
        "c = Clause([1, 2, -3, 4])\n",
        "# If we assign True to p_1, the whole clause is True.\n",
        "assert_equal(c.simplify(1), True)\n",
        "\n",
        "c = Clause([1, 2, -3, 4])\n",
        "# If we assign False to 1 and True to 3, p_1 and p_3 are not useful\n",
        "# any more to make the clause true.\n",
        "assert_equal(c.simplify(-4), Clause([1, 2, -3]))\n",
        "\n",
        "c = Clause([1, 2, -3, 4])\n",
        "# Left unchanged.\n",
        "assert_equal(c.simplify(12), c)\n"
      ]
    },
    {
      "cell_type": "code",
      "execution_count": 12,
      "metadata": {
        "deletable": false,
        "editable": false,
        "nbgrader": {
          "cell_type": "code",
          "checksum": "ed842094d4dca4c3b99acd679166ddc8",
          "grade": true,
          "grade_id": "cell-20a3ab4c69cde0b9",
          "locked": true,
          "points": 10,
          "schema_version": 3,
          "solution": false
        },
        "id": "2G20Y48xipsz"
      },
      "outputs": [],
      "source": [
        "# 5 points: Additional tests\n",
        "\n"
      ]
    },
    {
      "cell_type": "markdown",
      "metadata": {
        "deletable": false,
        "editable": false,
        "nbgrader": {
          "cell_type": "markdown",
          "checksum": "86cb4f286b90217de8653bfab5e58e37",
          "grade": false,
          "grade_id": "cell-7c9012b0194e4731",
          "locked": true,
          "schema_version": 3,
          "solution": false
        },
        "id": "28NYa6FRipsz"
      },
      "source": [
        "## SAT Representation"
      ]
    },
    {
      "cell_type": "markdown",
      "metadata": {
        "deletable": false,
        "editable": false,
        "nbgrader": {
          "cell_type": "markdown",
          "checksum": "261f96368e5e8d4b1c2087acf0ae8681",
          "grade": false,
          "grade_id": "cell-7cde5c1094002ede",
          "locked": true,
          "schema_version": 3,
          "solution": false
        },
        "id": "vzG6CuSSipsz"
      },
      "source": [
        "A SAT instance consists in a set of clauses. \n",
        "\n",
        "The SAT instance is satisfiable if and only if there is a truth assignment to predicates that satisfies all of its clauses. \n",
        "Therefore: \n",
        "\n",
        "* If the SAT instance contains no clauses, it is trivially satisfiable.\n",
        "* If the SAT instance contains an empty clause, it is unsatisfiable, since there is no way to satisfy that clause. \n",
        "\n",
        "Based on this idea, the initializer method for our SAT class will get a list of clauses as input.  It will discard the tautologically true ones (as indicated by the istrue clause method).  If there is even a single unsatisfiable clause, then we set the SAT problem to consist of only one unsatisfiable clause, as a shorthand for denoting that the SAT problem cannot be satisfied. \n",
        "\n",
        "We endow the SAT class with methods isfalse and istrue, that detect SAT problems that are trivially satisfiable by any truth assignment, or trivially unsatisfiable by any truth assignment. \n",
        "\n",
        "You will need to implement the methods _generate_candidate_assignments_, _apply_assignment_, and _solve_, which together will be used to search for a solution of the SAT instance.  These methods are discussed below. "
      ]
    },
    {
      "cell_type": "code",
      "execution_count": 13,
      "metadata": {
        "deletable": false,
        "editable": false,
        "nbgrader": {
          "cell_type": "code",
          "checksum": "4519c027d44fc4b664c0af131dd40ae1",
          "grade": false,
          "grade_id": "cell-b37099b547b95c37",
          "locked": true,
          "schema_version": 3,
          "solution": false
        },
        "id": "7dFKQGLzipsz"
      },
      "outputs": [],
      "source": [
        "class SAT(object):\n",
        "\n",
        "    def __init__(self, clause_list):\n",
        "        \"\"\"clause_list is a list of lists (or better, an iterable of\n",
        "        iterables), to represent a list or set of clauses.\"\"\"\n",
        "        raw_clauses = {Clause(c) for c in clause_list}\n",
        "        # We do some initial sanity checking.\n",
        "        # If a clause is empty, then it\n",
        "        # cannot be satisfied, and the entire problem is False.\n",
        "        # If a clause is true, it can be dropped.\n",
        "        self.clauses = set() #only add one empty clause. don't add true clauses\n",
        "        for c in raw_clauses:\n",
        "            if c.isfalse:\n",
        "                # Unsatisfiable.\n",
        "                self.clauses = {c}\n",
        "                break\n",
        "            elif c.istrue:\n",
        "                pass\n",
        "            else:\n",
        "                self.clauses.add(c)\n",
        "\n",
        "    def __repr__(self):\n",
        "        return repr(self.clauses)\n",
        "\n",
        "    def __eq__(self, other):\n",
        "        return self.clauses == other.clauses\n",
        "\n"
      ]
    },
    {
      "cell_type": "markdown",
      "metadata": {
        "deletable": false,
        "editable": false,
        "nbgrader": {
          "cell_type": "markdown",
          "checksum": "406269ad383dc05f5ffcf1ccc88d86b0",
          "grade": false,
          "grade_id": "cell-f49a477f47faa851",
          "locked": true,
          "schema_version": 3,
          "solution": false
        },
        "id": "WFrD48O8ipsz"
      },
      "source": [
        "Now define two functions (that are defined as properties), `istrue` and `isfalse`. \n",
        "\n",
        "* A SAT instance is true only if it contains no clauses.  This because empty clauses are not added to the SAT instance (see above initializer). \n",
        "* A SAT instance is false if it contains a false clause. "
      ]
    },
    {
      "cell_type": "code",
      "execution_count": 14,
      "metadata": {
        "deletable": false,
        "nbgrader": {
          "cell_type": "code",
          "checksum": "8f53e30cfd981897bfec3f05bc2db184",
          "grade": false,
          "grade_id": "cell-904e22dedb432250",
          "locked": false,
          "schema_version": 3,
          "solution": true
        },
        "id": "6XDx37UAipsz"
      },
      "outputs": [],
      "source": [
        "### istrue, isfalse, for SAT.\n",
        "\n",
        "def sat_istrue(self):\n",
        "    # YOUR CODE HERE\n",
        "    if len(self.clauses) == 0:\n",
        "      return True\n",
        "    return False\n",
        "\n",
        "def sat_isfalse(self):\n",
        "    # YOUR CODE HERE\n",
        "    for c in self.clauses:\n",
        "      if c.isfalse:\n",
        "        return True\n",
        "    return False\n",
        "      \n",
        "\n",
        "SAT.istrue = property(sat_istrue)\n",
        "SAT.isfalse = property(sat_isfalse)\n"
      ]
    },
    {
      "cell_type": "code",
      "execution_count": 15,
      "metadata": {
        "deletable": false,
        "editable": false,
        "nbgrader": {
          "cell_type": "code",
          "checksum": "6cd341c0ca2e36558b0c05e0a4c3fa02",
          "grade": false,
          "grade_id": "cell-2cf9e639496b061a",
          "locked": true,
          "schema_version": 3,
          "solution": false
        },
        "id": "AQAWvU-9ipsz"
      },
      "outputs": [],
      "source": [
        "### Here you can test your code.\n"
      ]
    },
    {
      "cell_type": "code",
      "execution_count": 16,
      "metadata": {
        "deletable": false,
        "editable": false,
        "nbgrader": {
          "cell_type": "code",
          "checksum": "e51f60a0a146abec500f12086fc0e2ee",
          "grade": false,
          "grade_id": "cell-d758b05fcaa2a69e",
          "locked": true,
          "schema_version": 3,
          "solution": false
        },
        "id": "vKYfxbPdipsz"
      },
      "outputs": [],
      "source": [
        "### 10 points: tests for .istrue, .isfalse.\n",
        "\n",
        "s = SAT([])\n",
        "assert_true(s.istrue)\n",
        "assert_false(s.isfalse)\n",
        "\n",
        "s = SAT([[3, 4, -4], [-2, 4]])\n",
        "assert_false(s.istrue)\n",
        "assert_false(s.isfalse)\n",
        "\n",
        "s = SAT([[3, 4, -4], [-2, 2]])\n",
        "assert_true(s.istrue)\n",
        "assert_false(s.isfalse)\n",
        "\n",
        "s = SAT([[3, -4], []])\n",
        "assert_false(s.istrue)\n",
        "assert_true(s.isfalse)\n"
      ]
    },
    {
      "cell_type": "markdown",
      "metadata": {
        "deletable": false,
        "editable": false,
        "nbgrader": {
          "cell_type": "markdown",
          "checksum": "c02ebdb5b10946b64d6bbdb6a2da8ea0",
          "grade": false,
          "grade_id": "cell-9a4ec12bf689c113",
          "locked": true,
          "schema_version": 3,
          "solution": false
        },
        "id": "0tq3LjHaipsz"
      },
      "source": [
        "#### generate_candidate_assignments\n",
        "\n",
        "In order to solve a SAT instance, we proceed with the choice-constraint propagation-recursion setting.  Let us build the choice piece first. \n",
        "The idea is this: if we are to make true a clause $c$, we have to make true at least one of its literals.  Thus, we can pick a clause $c$, and try the truth assignment corresponding to each of its literals in turn: at least one of them should work.  Which clause is best to pick?  As in the Sudoku case, one with minimal length, so that the probability of one of its literals being true is highest. \n",
        "\n",
        "Based on this, write a method _generate_candidate_assignments_ in the above SAT class, which returns the list or set of literals of one of the clauses of minimal length.  These will be the truth assignments we will need to try in turn.  Below are some tests that your code should pass.\n",
        "\n",
        "_Note:_ the solution can (but need not) be written in one line of code."
      ]
    },
    {
      "cell_type": "code",
      "execution_count": 17,
      "metadata": {
        "deletable": false,
        "nbgrader": {
          "cell_type": "code",
          "checksum": "b4f9724b2c4524fd1eede1e666a104af",
          "grade": false,
          "grade_id": "cell-a489d18cc1f71372",
          "locked": false,
          "schema_version": 3,
          "solution": true
        },
        "id": "wDnjV7B2ipsz"
      },
      "outputs": [],
      "source": [
        "### Definition of `generate_candidate_assignments`\n",
        "\n",
        "def sat_generate_candidate_assignments(self):\n",
        "    \"\"\"Generates candidate assignments.\n",
        "    Picks one of the shortest clauses, and return as candidate assignments\n",
        "    a list of sets, one for each of the literals of the chosen clause.\"\"\"\n",
        "    # YOUR CODE HERE\n",
        "\n",
        "    #make min a random value\n",
        "    min_clause = self.clauses.pop()\n",
        "    min_len = len(min_clause)\n",
        "    self.clauses.add(min_clause)\n",
        "\n",
        "    for x in self.clauses:\n",
        "      if len(x) < min_len:\n",
        "        min_clause = x\n",
        "        min_len = len(x)\n",
        "    \n",
        "    return (min_clause.literals)    #we have to return the literals, (each individual item), so that it can be created into a set\n",
        "\n",
        "\n",
        "SAT.generate_candidate_assignments = sat_generate_candidate_assignments\n"
      ]
    },
    {
      "cell_type": "code",
      "execution_count": 18,
      "metadata": {
        "deletable": false,
        "editable": false,
        "nbgrader": {
          "cell_type": "code",
          "checksum": "8f4695c197d3cabbe24b6b208980fc19",
          "grade": false,
          "grade_id": "cell-fbbb9d45aaec02a8",
          "locked": true,
          "schema_version": 3,
          "solution": false
        },
        "id": "zq_0vIIhips0"
      },
      "outputs": [],
      "source": [
        "### Here you can test your code.\n",
        "\n"
      ]
    },
    {
      "cell_type": "code",
      "execution_count": 19,
      "metadata": {
        "deletable": false,
        "editable": false,
        "nbgrader": {
          "cell_type": "code",
          "checksum": "a1c5d63fd6afa5b2594a91640a8d1708",
          "grade": true,
          "grade_id": "cell-4f70026ef7c103fe",
          "locked": true,
          "points": 10,
          "schema_version": 3,
          "solution": false
        },
        "id": "UJ1lPOrnips0"
      },
      "outputs": [],
      "source": [
        "### 5 points: Tests for `generate_candidate_assignments`\n",
        "\n",
        "s = SAT([[-1,-2,3],[2,-3],[1,-4,2,1]])\n",
        "assert_equal(set(s.generate_candidate_assignments()), {2, -3})\n",
        "\n"
      ]
    },
    {
      "cell_type": "markdown",
      "metadata": {
        "deletable": false,
        "editable": false,
        "nbgrader": {
          "cell_type": "markdown",
          "checksum": "0ca46d3e3b9e72e79614e92271dc643c",
          "grade": false,
          "grade_id": "cell-988a1d04a0be28da",
          "locked": true,
          "schema_version": 3,
          "solution": false
        },
        "id": "ZcKv5Natips0"
      },
      "source": [
        "#### apply_assignment\n",
        "\n",
        "Once we pick a truth assignment from one of the literals above, we need to propagate its effect to the clauses of the SAT instance. \n",
        "\n",
        "Write an _apply_assignment_ method in the SAT class given above, that takes as input a truth assignment $i$, and returns a new SAT object, whose clauses are obtained by simplifying the clauses of the current assignment according to $i$.  Clauses that are made true by $i$ (clauses where the _simplify_ method returns True) should not be part of the new SAT problem, since they are already satisfied. \n",
        "\n",
        "We provide below some tests for your code.\n",
        "\n",
        "_Note:_ the solution can (but need not) be written in two lines of code."
      ]
    },
    {
      "cell_type": "code",
      "execution_count": 20,
      "metadata": {
        "deletable": false,
        "nbgrader": {
          "cell_type": "code",
          "checksum": "7ee050c894f3a41a4d1b4d84d0dfbf9a",
          "grade": false,
          "grade_id": "cell-9ea0e3f36a56e8bc",
          "locked": false,
          "schema_version": 3,
          "solution": true
        },
        "id": "pUzMWRd-ips0"
      },
      "outputs": [],
      "source": [
        "### Exercise: define `apply_assignment`\n",
        "\n",
        "def sat_apply_assignment(self, assignment):\n",
        "    \"\"\"Applies the assignment to every clause.\n",
        "    If the result of the simplification is True (the boolean True),\n",
        "    the clause is discarded. The function returns a SAT problem\n",
        "    consisting of the simplified, non-True, clauses.\"\"\"\n",
        "    # YOUR CODE HERE\n",
        "    #for loop list comprehension \n",
        "    new_clauses = set()\n",
        "    for x in self.clauses:\n",
        "      if isinstance(x.simplify(assignment), bool):\n",
        "        #print(\"clause:\", x, \"is true\")\n",
        "        pass\n",
        "      else:\n",
        "        #print(\"clause:\", x, \"is false and x.simplify(1) is\", x.simplify(assignment))\n",
        "        new_clauses.add(x.simplify(assignment))\n",
        "    #new_clauses = [x.simplify(assignment) for x in self.clauses if not x.simplify(assignment)]   #gets only positive clauses\n",
        "    #simplifies the negative \n",
        "    return SAT(new_clauses)\n",
        "\n",
        "SAT.apply_assignment = sat_apply_assignment\n"
      ]
    },
    {
      "cell_type": "code",
      "execution_count": 21,
      "metadata": {
        "deletable": false,
        "editable": false,
        "nbgrader": {
          "cell_type": "code",
          "checksum": "64713c7554a45e09546c9c47bf8dbcbf",
          "grade": false,
          "grade_id": "cell-9ca00aee5dd5a8c6",
          "locked": true,
          "schema_version": 3,
          "solution": false
        },
        "id": "ba-FurKHips0"
      },
      "outputs": [],
      "source": [
        "### Here you can test your code.\n",
        "s = SAT([[-1, -2, 3], [2, -3], [5, -4, 2, 10]])\n",
        "#print(\"the assignemnt is\", s.apply_assignment(1))\n",
        "#type(True)"
      ]
    },
    {
      "cell_type": "code",
      "execution_count": 22,
      "metadata": {
        "deletable": false,
        "editable": false,
        "nbgrader": {
          "cell_type": "code",
          "checksum": "1969f4c6e58a3feda94ceda1a50c889d",
          "grade": true,
          "grade_id": "cell-4d00ac5bc14f217e",
          "locked": true,
          "points": 10,
          "schema_version": 3,
          "solution": false
        },
        "id": "dd2L5hXlips0"
      },
      "outputs": [],
      "source": [
        "### 5 points: Tests for `apply_assignment`\n",
        "\n",
        "# First, examples in which each clause is simplified and is part of the\n",
        "# new SAT problem.\n",
        "s = SAT([[-1, -2, 3], [2, -3], [5, -4, 2, 10]])\n",
        "t = s.apply_assignment(1)\n",
        "assert_equal(t, SAT([[-2, 3], [2, -3], [5, -4, 2, 10]]))\n",
        "\n",
        "s = SAT([[2, 3], [4, 2, -3], [2]])\n",
        "t = s.apply_assignment(-2)\n",
        "assert_equal(t, SAT([[3], [4, -3], []]))\n",
        "\n"
      ]
    },
    {
      "cell_type": "code",
      "execution_count": 23,
      "metadata": {
        "deletable": false,
        "editable": false,
        "nbgrader": {
          "cell_type": "code",
          "checksum": "ad0ad36df0e91c219173542e257e8fae",
          "grade": true,
          "grade_id": "cell-e31fd524a139339f",
          "locked": true,
          "points": 10,
          "schema_version": 3,
          "solution": false
        },
        "id": "OoZ3gVrNips0"
      },
      "outputs": [],
      "source": [
        "### 5 points: More tests for `apply_assignment`\n",
        "\n",
        "# Second, an example in which some clauses are made True, and hence removed\n",
        "# from the new SAT problem.\n",
        "s = SAT([[-1, -2, 3], [2, -3], [5, -4, 2, 10]])\n",
        "t = s.apply_assignment(-1)\n",
        "assert_equal(t, SAT([[2, -3], [5, -4, 2, 10]]))\n",
        "\n",
        "s = SAT([[2, 3, -4], [-1, -3, 5], [-3]])\n",
        "t = s.apply_assignment(3)\n",
        "assert_equal(t, SAT([[-1, 5], []]))\n",
        "\n"
      ]
    },
    {
      "cell_type": "markdown",
      "metadata": {
        "deletable": false,
        "editable": false,
        "nbgrader": {
          "cell_type": "markdown",
          "checksum": "ad40f35f2536a732a6564691ce69b888",
          "grade": false,
          "grade_id": "cell-7514fe227d5287dd",
          "locked": true,
          "schema_version": 3,
          "solution": false
        },
        "id": "yAq3AF2Nips0"
      },
      "source": [
        "#### solve\n",
        "\n",
        "The main method for searching for a solution of the SAT instance is the _solve_ method. \n",
        "The _solve_ method takes no arguments, and should return either False, if the SAT instance is unsatisfiable, or a truth assignment that satisfies it.  The satisfying truth assignment should be returned as a set. \n",
        "\n",
        "The _solve_ method uses _generate_candidate_assignments_ and _apply_assignment_ above. \n",
        "\n",
        "First, the _solve_ method should check whether the SAT instance $S$ is trivially unsatisfiable (and return False) or trivially satisfiable (and return the empty set), using the _istrue_ and _isfalse_ methods. \n",
        "This takes care of the base cases of the search. \n",
        "\n",
        "If none of the above applies, _solve_ must generate candiate truth assignments, and try them one by one.  Each candidate truth assignment, once applied, gives rise to a new SAT problem $S'$; this new SAT problem can be solved by calling _SAT_ recursively.  If the new SAT problem $S'$ has no solution, you can move on to the next candidate assignment, if any; if the new SAT problem $S'$ has a solution, the solution can be combined with the candidate truth assignment that gave rise to $S'$, to form a complete solution of the original problem $S$. \n"
      ]
    },
    {
      "cell_type": "code",
      "execution_count": 24,
      "metadata": {
        "deletable": false,
        "nbgrader": {
          "cell_type": "code",
          "checksum": "f5e7696b54a7f76286a6c853ee0bc835",
          "grade": false,
          "grade_id": "cell-42f509cf0fe93ab8",
          "locked": false,
          "schema_version": 3,
          "solution": true
        },
        "id": "whX7bxlrips0"
      },
      "outputs": [],
      "source": [
        "### Exercise: define `solve`\n",
        "\n",
        "def sat_solve(self):\n",
        "    \"\"\"Solves a SAT instance.\n",
        "    First, it checks whether the instance is false (in which case\n",
        "    it returns False) or true (in which case it returns an empty\n",
        "    assignment).\n",
        "    If neither of these applies, generates a list of candidate\n",
        "    assignments, and for each of them, applies them to the current SAT\n",
        "    instance, generating a new SAT instance, and solves it.\n",
        "\n",
        "    If the new SAT instance has a solution, merges it with the assignment,\n",
        "    and returns it.  If it has no solution, tries the next candidate\n",
        "    assignment.  If no candidate assignment works, returns False, as\n",
        "    the SAT problem cannot be satisfied.\"\"\"\n",
        "    # YOUR CODE HERE\n",
        "    truth_assignments = set()\n",
        "    if self.isfalse:      #SAT can be neither True nor False\n",
        "      return False\n",
        "    elif self.istrue:\n",
        "      return set()\n",
        "\n",
        "    possible_assignments = self.generate_candidate_assignments()\n",
        "    #we have to actually create the assignments here\n",
        "    for x in possible_assignments:\n",
        "      truth_assignments.add(x)\n",
        "      new_SAT = self.apply_assignment(x)      #returns clauses that were not solved (made True) by that assignment\n",
        "      new_SAT_solution = new_SAT.solve()\n",
        "      if new_SAT_solution != False:\n",
        "        return truth_assignments | new_SAT_solution\n",
        "\n",
        "      #i don't know how to check is new_SAT_solution has a solution. is the solution a set?\n",
        "\n",
        "      #if new_SAT_solution has no solution: \n",
        "        #do nothing (and let the loop move on to the next x)\n",
        "      #if new_SAT_solution has a solution:\n",
        "        #add the solution to x in a set and return the whole set\n",
        "    \n",
        "    #if none of the candidate assignments worked, the SAT is False\n",
        "    return False\n",
        "\n",
        "    \n",
        "\n",
        "SAT.solve = sat_solve\n"
      ]
    },
    {
      "cell_type": "markdown",
      "metadata": {
        "deletable": false,
        "editable": false,
        "nbgrader": {
          "cell_type": "markdown",
          "checksum": "63bd8648da37abd991ae265fddd15dba",
          "grade": false,
          "grade_id": "cell-e04fdea82f3c768b",
          "locked": true,
          "schema_version": 3,
          "solution": false
        },
        "id": "uv95GMY0ips0"
      },
      "source": [
        "To help you verify your code, let us write a method _apply_assignment_ that, given a SAT problem, applies an assignment to it, and returns True if the SAT instance is satisfied. "
      ]
    },
    {
      "cell_type": "code",
      "execution_count": 25,
      "metadata": {
        "deletable": false,
        "editable": false,
        "nbgrader": {
          "cell_type": "code",
          "checksum": "fb274eeda1787a8810a5d286a2249267",
          "grade": false,
          "grade_id": "cell-95591e411aa589d9",
          "locked": true,
          "schema_version": 3,
          "solution": false
        },
        "id": "YapVNpfMips0"
      },
      "outputs": [],
      "source": [
        "def sat_verify_assignment(self, assignment):\n",
        "    assert not has_pos_and_neg(assignment), \"The assignment is inconsistent\"\n",
        "    s = self\n",
        "    for i in assignment:      #assignment is the solution to the problem, i is each literal in the set\n",
        "        #since we reassign s, s has less and less clauses each time we reassign since some are solved and discarded with each i in assignments\n",
        "        s = s.apply_assignment(i)       #returns all the clauses from s that were not solveable with i \n",
        "        if s.istrue:              #s.istrue is true if there are no clauses in s \n",
        "            return True           #this means they were all solved by i \n",
        "        if s.isfalse:             #s.isfalse is true if there are no clauses in s (i don't know how this would happen)\n",
        "            return False\n",
        "    return False            #if \n",
        "\n",
        "SAT.verify_assignment = sat_verify_assignment\n"
      ]
    },
    {
      "cell_type": "code",
      "execution_count": 26,
      "metadata": {
        "deletable": false,
        "editable": false,
        "nbgrader": {
          "cell_type": "code",
          "checksum": "5da3ff5fb43fc7c23efcfb76d703aba3",
          "grade": false,
          "grade_id": "cell-6168baa4a90573a8",
          "locked": true,
          "schema_version": 3,
          "solution": false
        },
        "id": "EVibGtpIips0"
      },
      "outputs": [],
      "source": [
        "### Here you can test your code.\n"
      ]
    },
    {
      "cell_type": "code",
      "execution_count": 27,
      "metadata": {
        "deletable": false,
        "editable": false,
        "nbgrader": {
          "cell_type": "code",
          "checksum": "f42856674e771defc41d768430a87ee0",
          "grade": true,
          "grade_id": "cell-93e1ed63c3d495da",
          "locked": true,
          "points": 10,
          "schema_version": 3,
          "solution": false
        },
        "colab": {
          "base_uri": "https://localhost:8080/"
        },
        "id": "HVfZUOxcips0",
        "outputId": "9098e6ae-3a45-4e7f-bbcf-f5f28056f672"
      },
      "outputs": [
        {
          "output_type": "stream",
          "name": "stdout",
          "text": [
            "Assignment: {1, -3}\n"
          ]
        }
      ],
      "source": [
        "### 5 points: A solvable problem\n",
        "\n",
        "s = SAT([[1, 2], [-2, 2, 3], [-3, -2]])\n",
        "a = s.solve()\n",
        "print(\"Assignment:\", a)\n",
        "assert_true(s.verify_assignment(a))\n",
        "\n"
      ]
    },
    {
      "cell_type": "code",
      "execution_count": 28,
      "metadata": {
        "deletable": false,
        "editable": false,
        "nbgrader": {
          "cell_type": "code",
          "checksum": "d754946c7067e25fafe6caa078f55754",
          "grade": true,
          "grade_id": "cell-e05f2a459e0bdf44",
          "locked": true,
          "points": 10,
          "schema_version": 3,
          "solution": false
        },
        "id": "uahOy1F6ips0",
        "colab": {
          "base_uri": "https://localhost:8080/"
        },
        "outputId": "8b282a16-66b7-4cff-d93e-3f22f1a6b450"
      },
      "outputs": [
        {
          "output_type": "stream",
          "name": "stdout",
          "text": [
            "Assignment: {1, 8, -4, -3, -2}\n"
          ]
        }
      ],
      "source": [
        "### 5 points: Another solvable problem.\n",
        "\n",
        "s = SAT([[1, 2], [-2, 3], [-3, 4], [-4, 5], [8, -1]])\n",
        "a = s.solve()\n",
        "print(\"Assignment:\", a)\n",
        "assert_true(s.verify_assignment(a))\n",
        "\n"
      ]
    },
    {
      "cell_type": "code",
      "execution_count": 29,
      "metadata": {
        "deletable": false,
        "editable": false,
        "nbgrader": {
          "cell_type": "code",
          "checksum": "f449ed3d5e6b02af77f528c5037c6abb",
          "grade": true,
          "grade_id": "cell-7fa198c584779a3d",
          "locked": true,
          "points": 10,
          "schema_version": 3,
          "solution": false
        },
        "id": "vOBlQ7-sips1",
        "colab": {
          "base_uri": "https://localhost:8080/"
        },
        "outputId": "8fb1aad2-bd49-4451-c826-1748b66cb0c5"
      },
      "outputs": [
        {
          "output_type": "stream",
          "name": "stdout",
          "text": [
            "Assignment: {1, 2, 3}\n"
          ]
        }
      ],
      "source": [
        "### 5 points: Yet another solvable problem\n",
        "\n",
        "s = SAT([[-1, 2], [-2, 3], [-3, 1]])\n",
        "a = s.solve()\n",
        "print(\"Assignment:\", a)\n",
        "assert_true(s.verify_assignment(a))\n",
        "\n"
      ]
    },
    {
      "cell_type": "code",
      "execution_count": 30,
      "metadata": {
        "deletable": false,
        "editable": false,
        "nbgrader": {
          "cell_type": "code",
          "checksum": "def1722b46da0bde88fe6b5230dba831",
          "grade": true,
          "grade_id": "cell-3669e47546b2afcc",
          "locked": true,
          "points": 10,
          "schema_version": 3,
          "solution": false
        },
        "id": "7X00PJ5Zips1"
      },
      "outputs": [],
      "source": [
        "### 5 points: An unsolvable problem\n",
        "\n",
        "s = SAT([[1], [-1, 2], [-2]])\n",
        "assert_false(s.solve())\n",
        "\n"
      ]
    },
    {
      "cell_type": "code",
      "execution_count": 31,
      "metadata": {
        "deletable": false,
        "editable": false,
        "nbgrader": {
          "cell_type": "code",
          "checksum": "62c3883d9c5a8ee849763fac471b58ec",
          "grade": true,
          "grade_id": "cell-f64226d57ee3634b",
          "locked": true,
          "points": 10,
          "schema_version": 3,
          "solution": false
        },
        "id": "_uQWrv2Gips1"
      },
      "outputs": [],
      "source": [
        "### 5 points: Another unsolvable problem\n",
        "\n",
        "s = SAT([[-1, 2], [-2, 3], [-3, -1], [1]])\n",
        "assert_false(s.solve())\n",
        "\n"
      ]
    },
    {
      "cell_type": "code",
      "execution_count": 32,
      "metadata": {
        "deletable": false,
        "editable": false,
        "nbgrader": {
          "cell_type": "code",
          "checksum": "9e120dd5a49b65b60c433e3a94dfa265",
          "grade": true,
          "grade_id": "cell-121a61b0c22c228f",
          "locked": true,
          "points": 10,
          "schema_version": 3,
          "solution": false
        },
        "id": "S6S2XB_Yips1"
      },
      "outputs": [],
      "source": [
        "### 5 points: Yet another unsolvable problem\n",
        "\n",
        "s = SAT([[-1, 2], [-2, 3], [-3, -1], [1], [-4, -3, -2]])\n",
        "assert_false(s.solve())\n",
        "\n"
      ]
    },
    {
      "cell_type": "markdown",
      "metadata": {
        "deletable": false,
        "editable": false,
        "nbgrader": {
          "cell_type": "markdown",
          "checksum": "8151c68ee3cb204f035d617c976fba7b",
          "grade": false,
          "grade_id": "cell-cfde0599acc50baf",
          "locked": true,
          "schema_version": 3,
          "solution": false
        },
        "id": "ghdbVQM8ips1"
      },
      "source": [
        "## Epilogue\n",
        "\n",
        "The above method for solving SAT instances works!  \n",
        "\n",
        "Is that how it is done in real SAT solvers? \n",
        "\n",
        "Not quite.  What we wrote above is perhaps the simplest SAT solver, not the most efficient. \n",
        "Since SAT solvers are incredibly versatile -- many problems can be encoded into boolean satisfiability -- a very large amount of work has been done to make them faster and better.  Indeed, the study of strategies for SAT solvers is a field of computer science in itself, with its own conferences ([SAT](http://www.satisfiability.org/)) and [competitions](http://www.satcompetition.org/) dedicated to it. \n",
        "In particular, the constraint propagation generally uses three procedures in addition to those used above:\n",
        "\n",
        "### Unary clauses correspond to truth assignments\n",
        "\n",
        "If a clause contains only one literal, that literal must be part of the truth assignment, as it is the only way to satisfy the clause.  We note that we include this in an indirect way: when searching, we will preferentially select an unary clause if there is any, and take its literal as the (only) search option.\n",
        "\n",
        "### Binary clauses correspond to implications and can be propagated quickly\n",
        "\n",
        "If a clause is $p_1 \\vee p_2$, it can also be read as $\\neg p_1 \\rightarrow p_2$, so that if $p_1$ is assigned False, we know that we need to assign True to $p_2$.  We can represent this via an edge from the literal $\\bar{p}_1$ to the literal $p_2$.  Proceeding in this way, by looking at all binary clauses we can compute a graph (and keep it cached) that enables us to efficiently propagate truth assignments to literals. \n",
        "\n",
        "Our simple SAT solver also does a bit of this.  If we assign False to $p_1$, the binary clause $p_1 \\vee p_2$ is simplified in $p_2$, and next time, $p_2$ as a unary clause will be likely to be chosen to become part of the truth assignment.  Thus, our use of _simplify_ and _solve_, along with the heuristic of choosing the shortest clauses in _solve_, go part of the way towards implementing this technique.  A cached, precomputed graph however leads to a much faster implementation. \n",
        "\n",
        "### Resolution\n",
        "\n",
        "Consider two clauses that share a predicate variable, that appears positive (not complemented) in one clause, and complemented in the other:\n",
        "$$\n",
        "c_1 \\, : \\; p \\vee q_1 \\vee \\cdots \\vee q_n \\\\\n",
        "c_2 \\, : \\; \\bar{p} \\vee r_1 \\vee \\cdots \\vee r_m\n",
        "$$\n",
        "where $q_1, \\ldots, q_n, r_1, \\ldots, r_m$ are literals (positive or negative predicate variables). \n",
        "There are two cases: \n",
        "\n",
        "* either $p$ is False, and $q_1 \\vee \\cdots \\vee q_n$ must be true, \n",
        "* or $p$ is True, and $r_1 \\vee \\cdots \\vee r_m$ must be true.\n",
        "\n",
        "In either case, the disjuction \n",
        "$$\n",
        "c_{12}\\, : \\; q_1 \\vee \\cdots \\vee q_n \\; \\vee \\; r_1 \\vee \\cdots \\vee r_m\n",
        "$$\n",
        "must hold.  \n",
        "The process of merging $p_1$ and $p_2$ into $p_{12}$ is called _resolution_.  Resolution generates _more_ clauses: once $p_{12}$ is generated, we cannot discard $p_1$ or $p_2$.  However, having more clauses can lead to better constraint propagation: generally, what SAT solvers try to do is to cut down on the amont of exploration to be done, that is, they try to cut down the number of truth assignments that must be tried; limiting the number of clauses is a secondary concern.  Many heuristics are used to find clauses that are useful candidates for unification.\n",
        "\n",
        "### Clause learning\n",
        "\n",
        "Many modern SAT solvers, when they encounter a dead end in the exploration and need to backtrack, they summarize the fact that a particular truth assignment cannot be extended to a satisfying one via a _learned clause_.  These learned clauses are instrumental in pruning the remaining exploration to be performed.\n",
        "\n",
        "Precisely, assume that the truth assignment so far is $x_1, \\ldots, x_m$, where each $x_i$, $1 \\leq i \\leq m$, is a literal. \n",
        "If we find that there is no solution with this truth assignment, we need to backtrack in the search.  We can then add the clause \n",
        "$\\neg(x_1 \\wedge \\cdots \\wedge x_m) = \\bar{x}_1 \\vee \\cdots \\vee \\bar{x}_m$ to remember that the truth assignment was shown to be a dead end.\n",
        "\n",
        "### To learn more\n",
        "\n",
        "To learn more, you can look at how the [MiniSat](http://minisat.se/Main.html) solver works; MiniSat is a simple yet efficient SAT solver.\n",
        "\n",
        "\n"
      ]
    }
  ],
  "metadata": {
    "colab": {
      "collapsed_sections": [],
      "name": "Homework_16_test.ipynb",
      "provenance": []
    },
    "kernelspec": {
      "display_name": "Python 3",
      "language": "python",
      "name": "python3"
    },
    "language_info": {
      "codemirror_mode": {
        "name": "ipython",
        "version": 3
      },
      "file_extension": ".py",
      "mimetype": "text/x-python",
      "name": "python",
      "nbconvert_exporter": "python",
      "pygments_lexer": "ipython3",
      "version": "3.8.10"
    },
    "test_info": {
      "id": "c53714e814aab272365f53859a47046c2bfa436c"
    }
  },
  "nbformat": 4,
  "nbformat_minor": 0
}